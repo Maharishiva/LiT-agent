{
  "cells": [
    {
      "cell_type": "code",
      "execution_count": 1,
      "metadata": {
        "colab": {
          "base_uri": "https://localhost:8080/"
        },
        "id": "JIHbmSDyhv8m",
        "outputId": "6bb7e41f-7175-48a7-9706-73fda85ed258"
      },
      "outputs": [
        {
          "name": "stdout",
          "output_type": "stream",
          "text": [
            "Cloning into 'LiT-agent'...\n",
            "remote: Enumerating objects: 154, done.\u001b[K\n",
            "remote: Counting objects: 100% (47/47), done.\u001b[K\n",
            "remote: Compressing objects: 100% (32/32), done.\u001b[K\n",
            "remote: Total 154 (delta 15), reused 41 (delta 12), pack-reused 107 (from 1)\u001b[K\n",
            "Receiving objects: 100% (154/154), 267.97 MiB | 49.89 MiB/s, done.\n",
            "Resolving deltas: 100% (27/27), done.\n",
            "/content/LiT-agent\n"
          ]
        }
      ],
      "source": [
        "!git clone https://github.com/Maharishiva/LiT-agent.git\n",
        "%cd LiT-agent"
      ]
    },
    {
      "cell_type": "code",
      "execution_count": 2,
      "metadata": {
        "colab": {
          "base_uri": "https://localhost:8080/",
          "height": 1000
        },
        "id": "qoyQXi-ch1gf",
        "outputId": "a20d9e32-901a-4108-a35a-cebe468ed977"
      },
      "outputs": [
        {
          "name": "stdout",
          "output_type": "stream",
          "text": [
            "Collecting chex==0.1.86 (from -r requirements.txt (line 1))\n",
            "  Downloading chex-0.1.86-py3-none-any.whl.metadata (17 kB)\n",
            "Collecting craftax==1.4.3 (from -r requirements.txt (line 2))\n",
            "  Downloading craftax-1.4.3-py3-none-any.whl.metadata (10 kB)\n",
            "Collecting gymnasium==0.29.1 (from -r requirements.txt (line 3))\n",
            "  Downloading gymnasium-0.29.1-py3-none-any.whl.metadata (10 kB)\n",
            "Collecting gymnax==0.0.7 (from -r requirements.txt (line 4))\n",
            "  Downloading gymnax-0.0.7-py3-none-any.whl.metadata (19 kB)\n",
            "Collecting kiwisolver==1.4.5 (from -r requirements.txt (line 5))\n",
            "  Downloading kiwisolver-1.4.5-cp311-cp311-manylinux_2_17_x86_64.manylinux2014_x86_64.whl.metadata (6.4 kB)\n",
            "Collecting matplotlib==3.8.4 (from -r requirements.txt (line 6))\n",
            "  Downloading matplotlib-3.8.4-cp311-cp311-manylinux_2_17_x86_64.manylinux2014_x86_64.whl.metadata (5.8 kB)\n",
            "Collecting orbax-checkpoint==0.5.9 (from -r requirements.txt (line 7))\n",
            "  Downloading orbax_checkpoint-0.5.9-py3-none-any.whl.metadata (1.7 kB)\n",
            "Requirement already satisfied: seaborn in /usr/local/lib/python3.11/dist-packages (from -r requirements.txt (line 8)) (0.13.2)\n",
            "Requirement already satisfied: absl-py>=0.9.0 in /usr/local/lib/python3.11/dist-packages (from chex==0.1.86->-r requirements.txt (line 1)) (1.4.0)\n",
            "Requirement already satisfied: typing-extensions>=4.2.0 in /usr/local/lib/python3.11/dist-packages (from chex==0.1.86->-r requirements.txt (line 1)) (4.12.2)\n",
            "Requirement already satisfied: jax>=0.4.16 in /usr/local/lib/python3.11/dist-packages (from chex==0.1.86->-r requirements.txt (line 1)) (0.5.2)\n",
            "Requirement already satisfied: jaxlib>=0.1.37 in /usr/local/lib/python3.11/dist-packages (from chex==0.1.86->-r requirements.txt (line 1)) (0.5.1)\n",
            "Requirement already satisfied: numpy>=1.24.1 in /usr/local/lib/python3.11/dist-packages (from chex==0.1.86->-r requirements.txt (line 1)) (2.0.2)\n",
            "Requirement already satisfied: toolz>=0.9.0 in /usr/local/lib/python3.11/dist-packages (from chex==0.1.86->-r requirements.txt (line 1)) (0.12.1)\n",
            "Collecting distrax (from craftax==1.4.3->-r requirements.txt (line 2))\n",
            "  Downloading distrax-0.1.5-py3-none-any.whl.metadata (13 kB)\n",
            "Requirement already satisfied: optax in /usr/local/lib/python3.11/dist-packages (from craftax==1.4.3->-r requirements.txt (line 2)) (0.2.4)\n",
            "Requirement already satisfied: flax in /usr/local/lib/python3.11/dist-packages (from craftax==1.4.3->-r requirements.txt (line 2)) (0.10.4)\n",
            "Collecting black (from craftax==1.4.3->-r requirements.txt (line 2))\n",
            "  Downloading black-25.1.0-cp311-cp311-manylinux_2_17_x86_64.manylinux2014_x86_64.manylinux_2_28_x86_64.whl.metadata (81 kB)\n",
            "\u001b[2K     \u001b[90m━━━━━━━━━━━━━━━━━━━━━━━━━━━━━━━━━━━━━━━━\u001b[0m \u001b[32m81.3/81.3 kB\u001b[0m \u001b[31m3.8 MB/s\u001b[0m eta \u001b[36m0:00:00\u001b[0m\n",
            "\u001b[?25hCollecting pre-commit (from craftax==1.4.3->-r requirements.txt (line 2))\n",
            "  Downloading pre_commit-4.1.0-py2.py3-none-any.whl.metadata (1.3 kB)\n",
            "Collecting argparse (from craftax==1.4.3->-r requirements.txt (line 2))\n",
            "  Downloading argparse-1.4.0-py2.py3-none-any.whl.metadata (2.8 kB)\n",
            "Requirement already satisfied: wandb in /usr/local/lib/python3.11/dist-packages (from craftax==1.4.3->-r requirements.txt (line 2)) (0.19.8)\n",
            "Requirement already satisfied: pygame in /usr/local/lib/python3.11/dist-packages (from craftax==1.4.3->-r requirements.txt (line 2)) (2.6.1)\n",
            "Requirement already satisfied: imageio in /usr/local/lib/python3.11/dist-packages (from craftax==1.4.3->-r requirements.txt (line 2)) (2.37.0)\n",
            "Requirement already satisfied: cloudpickle>=1.2.0 in /usr/local/lib/python3.11/dist-packages (from gymnasium==0.29.1->-r requirements.txt (line 3)) (3.1.1)\n",
            "Requirement already satisfied: farama-notifications>=0.0.1 in /usr/local/lib/python3.11/dist-packages (from gymnasium==0.29.1->-r requirements.txt (line 3)) (0.0.4)\n",
            "Requirement already satisfied: pyyaml in /usr/local/lib/python3.11/dist-packages (from gymnax==0.0.7->-r requirements.txt (line 4)) (6.0.2)\n",
            "Collecting gym>=0.26 (from gymnax==0.0.7->-r requirements.txt (line 4))\n",
            "  Downloading gym-0.26.2.tar.gz (721 kB)\n",
            "\u001b[2K     \u001b[90m━━━━━━━━━━━━━━━━━━━━━━━━━━━━━━━━━━━━━━━━\u001b[0m \u001b[32m721.7/721.7 kB\u001b[0m \u001b[31m20.3 MB/s\u001b[0m eta \u001b[36m0:00:00\u001b[0m\n",
            "\u001b[?25h  Installing build dependencies ... \u001b[?25l\u001b[?25hdone\n",
            "  Getting requirements to build wheel ... \u001b[?25l\u001b[?25hdone\n",
            "  Preparing metadata (pyproject.toml) ... \u001b[?25l\u001b[?25hdone\n",
            "Requirement already satisfied: contourpy>=1.0.1 in /usr/local/lib/python3.11/dist-packages (from matplotlib==3.8.4->-r requirements.txt (line 6)) (1.3.1)\n",
            "Requirement already satisfied: cycler>=0.10 in /usr/local/lib/python3.11/dist-packages (from matplotlib==3.8.4->-r requirements.txt (line 6)) (0.12.1)\n",
            "Requirement already satisfied: fonttools>=4.22.0 in /usr/local/lib/python3.11/dist-packages (from matplotlib==3.8.4->-r requirements.txt (line 6)) (4.56.0)\n",
            "Requirement already satisfied: packaging>=20.0 in /usr/local/lib/python3.11/dist-packages (from matplotlib==3.8.4->-r requirements.txt (line 6)) (24.2)\n",
            "Requirement already satisfied: pillow>=8 in /usr/local/lib/python3.11/dist-packages (from matplotlib==3.8.4->-r requirements.txt (line 6)) (11.1.0)\n",
            "Requirement already satisfied: pyparsing>=2.3.1 in /usr/local/lib/python3.11/dist-packages (from matplotlib==3.8.4->-r requirements.txt (line 6)) (3.2.1)\n",
            "Requirement already satisfied: python-dateutil>=2.7 in /usr/local/lib/python3.11/dist-packages (from matplotlib==3.8.4->-r requirements.txt (line 6)) (2.8.2)\n",
            "Requirement already satisfied: etils[epath,epy] in /usr/local/lib/python3.11/dist-packages (from orbax-checkpoint==0.5.9->-r requirements.txt (line 7)) (1.12.2)\n",
            "Requirement already satisfied: msgpack in /usr/local/lib/python3.11/dist-packages (from orbax-checkpoint==0.5.9->-r requirements.txt (line 7)) (1.1.0)\n",
            "Requirement already satisfied: tensorstore>=0.1.51 in /usr/local/lib/python3.11/dist-packages (from orbax-checkpoint==0.5.9->-r requirements.txt (line 7)) (0.1.72)\n",
            "Requirement already satisfied: nest_asyncio in /usr/local/lib/python3.11/dist-packages (from orbax-checkpoint==0.5.9->-r requirements.txt (line 7)) (1.6.0)\n",
            "Requirement already satisfied: protobuf in /usr/local/lib/python3.11/dist-packages (from orbax-checkpoint==0.5.9->-r requirements.txt (line 7)) (4.25.6)\n",
            "Requirement already satisfied: pandas>=1.2 in /usr/local/lib/python3.11/dist-packages (from seaborn->-r requirements.txt (line 8)) (2.2.2)\n",
            "Requirement already satisfied: gym_notices>=0.0.4 in /usr/local/lib/python3.11/dist-packages (from gym>=0.26->gymnax==0.0.7->-r requirements.txt (line 4)) (0.0.8)\n",
            "Requirement already satisfied: ml_dtypes>=0.4.0 in /usr/local/lib/python3.11/dist-packages (from jax>=0.4.16->chex==0.1.86->-r requirements.txt (line 1)) (0.4.1)\n",
            "Requirement already satisfied: opt_einsum in /usr/local/lib/python3.11/dist-packages (from jax>=0.4.16->chex==0.1.86->-r requirements.txt (line 1)) (3.4.0)\n",
            "Requirement already satisfied: scipy>=1.11.1 in /usr/local/lib/python3.11/dist-packages (from jax>=0.4.16->chex==0.1.86->-r requirements.txt (line 1)) (1.14.1)\n",
            "Requirement already satisfied: pytz>=2020.1 in /usr/local/lib/python3.11/dist-packages (from pandas>=1.2->seaborn->-r requirements.txt (line 8)) (2025.1)\n",
            "Requirement already satisfied: tzdata>=2022.7 in /usr/local/lib/python3.11/dist-packages (from pandas>=1.2->seaborn->-r requirements.txt (line 8)) (2025.1)\n",
            "Requirement already satisfied: six>=1.5 in /usr/local/lib/python3.11/dist-packages (from python-dateutil>=2.7->matplotlib==3.8.4->-r requirements.txt (line 6)) (1.17.0)\n",
            "Requirement already satisfied: click>=8.0.0 in /usr/local/lib/python3.11/dist-packages (from black->craftax==1.4.3->-r requirements.txt (line 2)) (8.1.8)\n",
            "Collecting mypy-extensions>=0.4.3 (from black->craftax==1.4.3->-r requirements.txt (line 2))\n",
            "  Downloading mypy_extensions-1.0.0-py3-none-any.whl.metadata (1.1 kB)\n",
            "Collecting pathspec>=0.9.0 (from black->craftax==1.4.3->-r requirements.txt (line 2))\n",
            "  Downloading pathspec-0.12.1-py3-none-any.whl.metadata (21 kB)\n",
            "Requirement already satisfied: platformdirs>=2 in /usr/local/lib/python3.11/dist-packages (from black->craftax==1.4.3->-r requirements.txt (line 2)) (4.3.6)\n",
            "Requirement already satisfied: tensorflow-probability>=0.15.0 in /usr/local/lib/python3.11/dist-packages (from distrax->craftax==1.4.3->-r requirements.txt (line 2)) (0.25.0)\n",
            "Requirement already satisfied: fsspec in /usr/local/lib/python3.11/dist-packages (from etils[epath,epy]->orbax-checkpoint==0.5.9->-r requirements.txt (line 7)) (2024.10.0)\n",
            "Requirement already satisfied: importlib_resources in /usr/local/lib/python3.11/dist-packages (from etils[epath,epy]->orbax-checkpoint==0.5.9->-r requirements.txt (line 7)) (6.5.2)\n",
            "Requirement already satisfied: zipp in /usr/local/lib/python3.11/dist-packages (from etils[epath,epy]->orbax-checkpoint==0.5.9->-r requirements.txt (line 7)) (3.21.0)\n",
            "Requirement already satisfied: rich>=11.1 in /usr/local/lib/python3.11/dist-packages (from flax->craftax==1.4.3->-r requirements.txt (line 2)) (13.9.4)\n",
            "Requirement already satisfied: treescope>=0.1.7 in /usr/local/lib/python3.11/dist-packages (from flax->craftax==1.4.3->-r requirements.txt (line 2)) (0.1.9)\n",
            "INFO: pip is looking at multiple versions of optax to determine which version is compatible with other requirements. This could take a while.\n",
            "Collecting optax (from craftax==1.4.3->-r requirements.txt (line 2))\n",
            "  Downloading optax-0.2.3-py3-none-any.whl.metadata (8.3 kB)\n",
            "Collecting cfgv>=2.0.0 (from pre-commit->craftax==1.4.3->-r requirements.txt (line 2))\n",
            "  Downloading cfgv-3.4.0-py2.py3-none-any.whl.metadata (8.5 kB)\n",
            "Collecting identify>=1.0.0 (from pre-commit->craftax==1.4.3->-r requirements.txt (line 2))\n",
            "  Downloading identify-2.6.9-py2.py3-none-any.whl.metadata (4.4 kB)\n",
            "Collecting nodeenv>=0.11.1 (from pre-commit->craftax==1.4.3->-r requirements.txt (line 2))\n",
            "  Downloading nodeenv-1.9.1-py2.py3-none-any.whl.metadata (21 kB)\n",
            "Collecting virtualenv>=20.10.0 (from pre-commit->craftax==1.4.3->-r requirements.txt (line 2))\n",
            "  Downloading virtualenv-20.29.3-py3-none-any.whl.metadata (4.5 kB)\n",
            "Requirement already satisfied: docker-pycreds>=0.4.0 in /usr/local/lib/python3.11/dist-packages (from wandb->craftax==1.4.3->-r requirements.txt (line 2)) (0.4.0)\n",
            "Requirement already satisfied: gitpython!=3.1.29,>=1.0.0 in /usr/local/lib/python3.11/dist-packages (from wandb->craftax==1.4.3->-r requirements.txt (line 2)) (3.1.44)\n",
            "Requirement already satisfied: psutil>=5.0.0 in /usr/local/lib/python3.11/dist-packages (from wandb->craftax==1.4.3->-r requirements.txt (line 2)) (5.9.5)\n",
            "Requirement already satisfied: pydantic<3,>=2.6 in /usr/local/lib/python3.11/dist-packages (from wandb->craftax==1.4.3->-r requirements.txt (line 2)) (2.10.6)\n",
            "Requirement already satisfied: requests<3,>=2.0.0 in /usr/local/lib/python3.11/dist-packages (from wandb->craftax==1.4.3->-r requirements.txt (line 2)) (2.32.3)\n",
            "Requirement already satisfied: sentry-sdk>=2.0.0 in /usr/local/lib/python3.11/dist-packages (from wandb->craftax==1.4.3->-r requirements.txt (line 2)) (2.22.0)\n",
            "Requirement already satisfied: setproctitle in /usr/local/lib/python3.11/dist-packages (from wandb->craftax==1.4.3->-r requirements.txt (line 2)) (1.3.5)\n",
            "Requirement already satisfied: setuptools in /usr/local/lib/python3.11/dist-packages (from wandb->craftax==1.4.3->-r requirements.txt (line 2)) (75.1.0)\n",
            "Requirement already satisfied: gitdb<5,>=4.0.1 in /usr/local/lib/python3.11/dist-packages (from gitpython!=3.1.29,>=1.0.0->wandb->craftax==1.4.3->-r requirements.txt (line 2)) (4.0.12)\n",
            "Requirement already satisfied: annotated-types>=0.6.0 in /usr/local/lib/python3.11/dist-packages (from pydantic<3,>=2.6->wandb->craftax==1.4.3->-r requirements.txt (line 2)) (0.7.0)\n",
            "Requirement already satisfied: pydantic-core==2.27.2 in /usr/local/lib/python3.11/dist-packages (from pydantic<3,>=2.6->wandb->craftax==1.4.3->-r requirements.txt (line 2)) (2.27.2)\n",
            "Requirement already satisfied: charset-normalizer<4,>=2 in /usr/local/lib/python3.11/dist-packages (from requests<3,>=2.0.0->wandb->craftax==1.4.3->-r requirements.txt (line 2)) (3.4.1)\n",
            "Requirement already satisfied: idna<4,>=2.5 in /usr/local/lib/python3.11/dist-packages (from requests<3,>=2.0.0->wandb->craftax==1.4.3->-r requirements.txt (line 2)) (3.10)\n",
            "Requirement already satisfied: urllib3<3,>=1.21.1 in /usr/local/lib/python3.11/dist-packages (from requests<3,>=2.0.0->wandb->craftax==1.4.3->-r requirements.txt (line 2)) (2.3.0)\n",
            "Requirement already satisfied: certifi>=2017.4.17 in /usr/local/lib/python3.11/dist-packages (from requests<3,>=2.0.0->wandb->craftax==1.4.3->-r requirements.txt (line 2)) (2025.1.31)\n",
            "Requirement already satisfied: markdown-it-py>=2.2.0 in /usr/local/lib/python3.11/dist-packages (from rich>=11.1->flax->craftax==1.4.3->-r requirements.txt (line 2)) (3.0.0)\n",
            "Requirement already satisfied: pygments<3.0.0,>=2.13.0 in /usr/local/lib/python3.11/dist-packages (from rich>=11.1->flax->craftax==1.4.3->-r requirements.txt (line 2)) (2.18.0)\n",
            "Requirement already satisfied: decorator in /usr/local/lib/python3.11/dist-packages (from tensorflow-probability>=0.15.0->distrax->craftax==1.4.3->-r requirements.txt (line 2)) (4.4.2)\n",
            "Requirement already satisfied: gast>=0.3.2 in /usr/local/lib/python3.11/dist-packages (from tensorflow-probability>=0.15.0->distrax->craftax==1.4.3->-r requirements.txt (line 2)) (0.6.0)\n",
            "Requirement already satisfied: dm-tree in /usr/local/lib/python3.11/dist-packages (from tensorflow-probability>=0.15.0->distrax->craftax==1.4.3->-r requirements.txt (line 2)) (0.1.9)\n",
            "Collecting distlib<1,>=0.3.7 (from virtualenv>=20.10.0->pre-commit->craftax==1.4.3->-r requirements.txt (line 2))\n",
            "  Downloading distlib-0.3.9-py2.py3-none-any.whl.metadata (5.2 kB)\n",
            "Requirement already satisfied: filelock<4,>=3.12.2 in /usr/local/lib/python3.11/dist-packages (from virtualenv>=20.10.0->pre-commit->craftax==1.4.3->-r requirements.txt (line 2)) (3.17.0)\n",
            "Requirement already satisfied: smmap<6,>=3.0.1 in /usr/local/lib/python3.11/dist-packages (from gitdb<5,>=4.0.1->gitpython!=3.1.29,>=1.0.0->wandb->craftax==1.4.3->-r requirements.txt (line 2)) (5.0.2)\n",
            "Requirement already satisfied: mdurl~=0.1 in /usr/local/lib/python3.11/dist-packages (from markdown-it-py>=2.2.0->rich>=11.1->flax->craftax==1.4.3->-r requirements.txt (line 2)) (0.1.2)\n",
            "Requirement already satisfied: attrs>=18.2.0 in /usr/local/lib/python3.11/dist-packages (from dm-tree->tensorflow-probability>=0.15.0->distrax->craftax==1.4.3->-r requirements.txt (line 2)) (25.3.0)\n",
            "Requirement already satisfied: wrapt>=1.11.2 in /usr/local/lib/python3.11/dist-packages (from dm-tree->tensorflow-probability>=0.15.0->distrax->craftax==1.4.3->-r requirements.txt (line 2)) (1.17.2)\n",
            "Downloading chex-0.1.86-py3-none-any.whl (98 kB)\n",
            "\u001b[2K   \u001b[90m━━━━━━━━━━━━━━━━━━━━━━━━━━━━━━━━━━━━━━━━\u001b[0m \u001b[32m98.2/98.2 kB\u001b[0m \u001b[31m9.7 MB/s\u001b[0m eta \u001b[36m0:00:00\u001b[0m\n",
            "\u001b[?25hDownloading craftax-1.4.3-py3-none-any.whl (8.5 MB)\n",
            "\u001b[2K   \u001b[90m━━━━━━━━━━━━━━━━━━━━━━━━━━━━━━━━━━━━━━━━\u001b[0m \u001b[32m8.5/8.5 MB\u001b[0m \u001b[31m108.9 MB/s\u001b[0m eta \u001b[36m0:00:00\u001b[0m\n",
            "\u001b[?25hDownloading gymnasium-0.29.1-py3-none-any.whl (953 kB)\n",
            "\u001b[2K   \u001b[90m━━━━━━━━━━━━━━━━━━━━━━━━━━━━━━━━━━━━━━━━\u001b[0m \u001b[32m953.9/953.9 kB\u001b[0m \u001b[31m63.1 MB/s\u001b[0m eta \u001b[36m0:00:00\u001b[0m\n",
            "\u001b[?25hDownloading gymnax-0.0.7-py3-none-any.whl (96 kB)\n",
            "\u001b[2K   \u001b[90m━━━━━━━━━━━━━━━━━━━━━━━━━━━━━━━━━━━━━━━━\u001b[0m \u001b[32m96.3/96.3 kB\u001b[0m \u001b[31m10.5 MB/s\u001b[0m eta \u001b[36m0:00:00\u001b[0m\n",
            "\u001b[?25hDownloading kiwisolver-1.4.5-cp311-cp311-manylinux_2_17_x86_64.manylinux2014_x86_64.whl (1.4 MB)\n",
            "\u001b[2K   \u001b[90m━━━━━━━━━━━━━━━━━━━━━━━━━━━━━━━━━━━━━━━━\u001b[0m \u001b[32m1.4/1.4 MB\u001b[0m \u001b[31m71.8 MB/s\u001b[0m eta \u001b[36m0:00:00\u001b[0m\n",
            "\u001b[?25hDownloading matplotlib-3.8.4-cp311-cp311-manylinux_2_17_x86_64.manylinux2014_x86_64.whl (11.6 MB)\n",
            "\u001b[2K   \u001b[90m━━━━━━━━━━━━━━━━━━━━━━━━━━━━━━━━━━━━━━━━\u001b[0m \u001b[32m11.6/11.6 MB\u001b[0m \u001b[31m118.2 MB/s\u001b[0m eta \u001b[36m0:00:00\u001b[0m\n",
            "\u001b[?25hDownloading orbax_checkpoint-0.5.9-py3-none-any.whl (168 kB)\n",
            "\u001b[2K   \u001b[90m━━━━━━━━━━━━━━━━━━━━━━━━━━━━━━━━━━━━━━━━\u001b[0m \u001b[32m168.0/168.0 kB\u001b[0m \u001b[31m17.7 MB/s\u001b[0m eta \u001b[36m0:00:00\u001b[0m\n",
            "\u001b[?25hDownloading argparse-1.4.0-py2.py3-none-any.whl (23 kB)\n",
            "Downloading black-25.1.0-cp311-cp311-manylinux_2_17_x86_64.manylinux2014_x86_64.manylinux_2_28_x86_64.whl (1.7 MB)\n",
            "\u001b[2K   \u001b[90m━━━━━━━━━━━━━━━━━━━━━━━━━━━━━━━━━━━━━━━━\u001b[0m \u001b[32m1.7/1.7 MB\u001b[0m \u001b[31m79.7 MB/s\u001b[0m eta \u001b[36m0:00:00\u001b[0m\n",
            "\u001b[?25hDownloading distrax-0.1.5-py3-none-any.whl (319 kB)\n",
            "\u001b[2K   \u001b[90m━━━━━━━━━━━━━━━━━━━━━━━━━━━━━━━━━━━━━━━━\u001b[0m \u001b[32m319.7/319.7 kB\u001b[0m \u001b[31m29.5 MB/s\u001b[0m eta \u001b[36m0:00:00\u001b[0m\n",
            "\u001b[?25hDownloading optax-0.2.3-py3-none-any.whl (289 kB)\n",
            "\u001b[2K   \u001b[90m━━━━━━━━━━━━━━━━━━━━━━━━━━━━━━━━━━━━━━━━\u001b[0m \u001b[32m289.6/289.6 kB\u001b[0m \u001b[31m24.4 MB/s\u001b[0m eta \u001b[36m0:00:00\u001b[0m\n",
            "\u001b[?25hDownloading pre_commit-4.1.0-py2.py3-none-any.whl (220 kB)\n",
            "\u001b[2K   \u001b[90m━━━━━━━━━━━━━━━━━━━━━━━━━━━━━━━━━━━━━━━━\u001b[0m \u001b[32m220.6/220.6 kB\u001b[0m \u001b[31m21.9 MB/s\u001b[0m eta \u001b[36m0:00:00\u001b[0m\n",
            "\u001b[?25hDownloading cfgv-3.4.0-py2.py3-none-any.whl (7.2 kB)\n",
            "Downloading identify-2.6.9-py2.py3-none-any.whl (99 kB)\n",
            "\u001b[2K   \u001b[90m━━━━━━━━━━━━━━━━━━━━━━━━━━━━━━━━━━━━━━━━\u001b[0m \u001b[32m99.1/99.1 kB\u001b[0m \u001b[31m11.1 MB/s\u001b[0m eta \u001b[36m0:00:00\u001b[0m\n",
            "\u001b[?25hDownloading mypy_extensions-1.0.0-py3-none-any.whl (4.7 kB)\n",
            "Downloading nodeenv-1.9.1-py2.py3-none-any.whl (22 kB)\n",
            "Downloading pathspec-0.12.1-py3-none-any.whl (31 kB)\n",
            "Downloading virtualenv-20.29.3-py3-none-any.whl (4.3 MB)\n",
            "\u001b[2K   \u001b[90m━━━━━━━━━━━━━━━━━━━━━━━━━━━━━━━━━━━━━━━━\u001b[0m \u001b[32m4.3/4.3 MB\u001b[0m \u001b[31m99.2 MB/s\u001b[0m eta \u001b[36m0:00:00\u001b[0m\n",
            "\u001b[?25hDownloading distlib-0.3.9-py2.py3-none-any.whl (468 kB)\n",
            "\u001b[2K   \u001b[90m━━━━━━━━━━━━━━━━━━━━━━━━━━━━━━━━━━━━━━━━\u001b[0m \u001b[32m469.0/469.0 kB\u001b[0m \u001b[31m38.6 MB/s\u001b[0m eta \u001b[36m0:00:00\u001b[0m\n",
            "\u001b[?25hBuilding wheels for collected packages: gym\n",
            "  Building wheel for gym (pyproject.toml) ... \u001b[?25l\u001b[?25hdone\n",
            "  Created wheel for gym: filename=gym-0.26.2-py3-none-any.whl size=827695 sha256=378a07fc994872433189191c70c7f4fe323c836a6987e2aa6e0760aa4bd46985\n",
            "  Stored in directory: /root/.cache/pip/wheels/1c/77/9e/9af5470201a0b0543937933ee99ba884cd237d2faefe8f4d37\n",
            "Successfully built gym\n",
            "Installing collected packages: distlib, argparse, virtualenv, pathspec, nodeenv, mypy-extensions, kiwisolver, identify, gymnasium, gym, cfgv, pre-commit, matplotlib, black, orbax-checkpoint, chex, optax, distrax, gymnax, craftax\n",
            "  Attempting uninstall: kiwisolver\n",
            "    Found existing installation: kiwisolver 1.4.8\n",
            "    Uninstalling kiwisolver-1.4.8:\n",
            "      Successfully uninstalled kiwisolver-1.4.8\n",
            "  Attempting uninstall: gymnasium\n",
            "    Found existing installation: gymnasium 1.1.1\n",
            "    Uninstalling gymnasium-1.1.1:\n",
            "      Successfully uninstalled gymnasium-1.1.1\n",
            "  Attempting uninstall: gym\n",
            "    Found existing installation: gym 0.25.2\n",
            "    Uninstalling gym-0.25.2:\n",
            "      Successfully uninstalled gym-0.25.2\n",
            "  Attempting uninstall: matplotlib\n",
            "    Found existing installation: matplotlib 3.10.0\n",
            "    Uninstalling matplotlib-3.10.0:\n",
            "      Successfully uninstalled matplotlib-3.10.0\n",
            "  Attempting uninstall: orbax-checkpoint\n",
            "    Found existing installation: orbax-checkpoint 0.11.8\n",
            "    Uninstalling orbax-checkpoint-0.11.8:\n",
            "      Successfully uninstalled orbax-checkpoint-0.11.8\n",
            "  Attempting uninstall: chex\n",
            "    Found existing installation: chex 0.1.89\n",
            "    Uninstalling chex-0.1.89:\n",
            "      Successfully uninstalled chex-0.1.89\n",
            "  Attempting uninstall: optax\n",
            "    Found existing installation: optax 0.2.4\n",
            "    Uninstalling optax-0.2.4:\n",
            "      Successfully uninstalled optax-0.2.4\n",
            "\u001b[31mERROR: pip's dependency resolver does not currently take into account all the packages that are installed. This behaviour is the source of the following dependency conflicts.\n",
            "dopamine-rl 4.1.2 requires gym<=0.25.2, but you have gym 0.26.2 which is incompatible.\n",
            "dopamine-rl 4.1.2 requires gymnasium>=1.0.0, but you have gymnasium 0.29.1 which is incompatible.\u001b[0m\u001b[31m\n",
            "\u001b[0mSuccessfully installed argparse-1.4.0 black-25.1.0 cfgv-3.4.0 chex-0.1.86 craftax-1.4.3 distlib-0.3.9 distrax-0.1.5 gym-0.26.2 gymnasium-0.29.1 gymnax-0.0.7 identify-2.6.9 kiwisolver-1.4.5 matplotlib-3.8.4 mypy-extensions-1.0.0 nodeenv-1.9.1 optax-0.2.3 orbax-checkpoint-0.5.9 pathspec-0.12.1 pre-commit-4.1.0 virtualenv-20.29.3\n"
          ]
        },
        {
          "data": {
            "application/vnd.colab-display-data+json": {
              "id": "33f0cda4350a4447b945c80614f6a463",
              "pip_warning": {
                "packages": [
                  "argparse",
                  "kiwisolver",
                  "matplotlib",
                  "mpl_toolkits"
                ]
              }
            }
          },
          "metadata": {},
          "output_type": "display_data"
        }
      ],
      "source": [
        "!pip install -r requirements_colab.txt"
      ]
    },
    {
      "cell_type": "code",
      "execution_count": 1,
      "metadata": {
        "colab": {
          "base_uri": "https://localhost:8080/"
        },
        "id": "3M32aGf2h-_f",
        "outputId": "76cdd3ba-0f32-491d-e472-c0f04f0c34b2"
      },
      "outputs": [
        {
          "name": "stdout",
          "output_type": "stream",
          "text": [
            "\u001b[34m\u001b[1mwandb\u001b[0m: Logging into wandb.ai. (Learn how to deploy a W&B server locally: https://wandb.me/wandb-server)\n",
            "\u001b[34m\u001b[1mwandb\u001b[0m: You can find your API key in your browser here: https://wandb.ai/authorize\n",
            "\u001b[34m\u001b[1mwandb\u001b[0m: Paste an API key from your profile and hit enter, or press ctrl+c to quit: \n",
            "\u001b[34m\u001b[1mwandb\u001b[0m: No netrc file found, creating one.\n",
            "\u001b[34m\u001b[1mwandb\u001b[0m: Appending key for api.wandb.ai to your netrc file: /root/.netrc\n",
            "\u001b[34m\u001b[1mwandb\u001b[0m: Currently logged in as: \u001b[33mmaharishiva\u001b[0m to \u001b[32mhttps://api.wandb.ai\u001b[0m. Use \u001b[1m`wandb login --relogin`\u001b[0m to force relogin\n"
          ]
        }
      ],
      "source": [
        "!wandb login"
      ]
    },
    {
      "cell_type": "code",
      "execution_count": null,
      "metadata": {
        "id": "gw-qtx0RWW8p"
      },
      "outputs": [],
      "source": []
    },
    {
      "cell_type": "code",
      "execution_count": 3,
      "metadata": {
        "colab": {
          "base_uri": "https://localhost:8080/"
        },
        "id": "I5D-tHI1iL7t",
        "outputId": "6bcba471-224f-4a7c-c23c-9a1e9ff031ed"
      },
      "outputs": [
        {
          "name": "stdout",
          "output_type": "stream",
          "text": [
            "/content/LiT-agent\n"
          ]
        }
      ],
      "source": [
        "cd LiT-agent/"
      ]
    },
    {
      "cell_type": "code",
      "execution_count": 6,
      "metadata": {
        "colab": {
          "base_uri": "https://localhost:8080/"
        },
        "id": "xmFHr053iVQW",
        "outputId": "ed0b01bd-eb40-48c4-a1e4-91a5e8943f8e"
      },
      "outputs": [
        {
          "name": "stdout",
          "output_type": "stream",
          "text": [
            "2025-03-17 23:17:03.000356: E external/local_xla/xla/stream_executor/cuda/cuda_fft.cc:477] Unable to register cuFFT factory: Attempting to register factory for plugin cuFFT when one has already been registered\n",
            "WARNING: All log messages before absl::InitializeLog() is called are written to STDERR\n",
            "E0000 00:00:1742253423.022507    5506 cuda_dnn.cc:8310] Unable to register cuDNN factory: Attempting to register factory for plugin cuDNN when one has already been registered\n",
            "E0000 00:00:1742253423.029164    5506 cuda_blas.cc:1418] Unable to register cuBLAS factory: Attempting to register factory for plugin cuBLAS when one has already been registered\n",
            "Available devices: [CudaDevice(id=0)]\n",
            "\u001b[34m\u001b[1mwandb\u001b[0m: Using wandb-core as the SDK backend.  Please refer to https://wandb.me/wandb-core for more information.\n",
            "\u001b[34m\u001b[1mwandb\u001b[0m: Currently logged in as: \u001b[33mmaharishiva\u001b[0m to \u001b[32mhttps://api.wandb.ai\u001b[0m. Use \u001b[1m`wandb login --relogin`\u001b[0m to force relogin\n",
            "\u001b[34m\u001b[1mwandb\u001b[0m: Tracking run with wandb version 0.19.8\n",
            "\u001b[34m\u001b[1mwandb\u001b[0m: Run data is saved locally in \u001b[35m\u001b[1m/content/LiT-agent/wandb/run-20250317_231708-tdvtjxia\u001b[0m\n",
            "\u001b[34m\u001b[1mwandb\u001b[0m: Run \u001b[1m`wandb offline`\u001b[0m to turn off syncing.\n",
            "\u001b[34m\u001b[1mwandb\u001b[0m: Syncing run \u001b[33mcraftax_seed0\u001b[0m\n",
            "\u001b[34m\u001b[1mwandb\u001b[0m: ⭐️ View project at \u001b[34m\u001b[4mhttps://wandb.ai/maharishiva/lit-transformer-ppo\u001b[0m\n",
            "\u001b[34m\u001b[1mwandb\u001b[0m: 🚀 View run at \u001b[34m\u001b[4mhttps://wandb.ai/maharishiva/lit-transformer-ppo/runs/tdvtjxia\u001b[0m\n",
            "Start compiling and training\n",
            "Loading textures from cache.\n",
            "Textures successfully loaded from cache.\n",
            "Compilation finished in 6.54 seconds\n",
            "training and compilation took 452.6939151287079\n",
            "\u001b[34m\u001b[1mwandb\u001b[0m:                                                                                \n",
            "\u001b[34m\u001b[1mwandb\u001b[0m: \n",
            "\u001b[34m\u001b[1mwandb\u001b[0m: Run history:\n",
            "\u001b[34m\u001b[1mwandb\u001b[0m: episode_length ▁▄▆▆▆▆▆▇▆▆▆▆▇▆▇▇▇▇█▇▇▇▇▇▇▇▆▆▇▇▇█▇▇▇▇▇▇█▇\n",
            "\u001b[34m\u001b[1mwandb\u001b[0m:         return ▁▂▂▃▃▄▄▄▄▄▄▄▄▄▄▄▅▅▅▅▅▅▆▆▆▆▆▆▆▇▇▇▇▇▇█████\n",
            "\u001b[34m\u001b[1mwandb\u001b[0m:      timesteps ▁▁▁▂▂▂▂▃▃▃▃▃▃▃▃▄▄▄▄▄▅▅▅▅▅▅▅▆▆▆▆▆▆▆▇▇▇███\n",
            "\u001b[34m\u001b[1mwandb\u001b[0m:         update ▁▁▁▁▁▂▂▂▂▂▂▂▂▃▃▃▃▄▄▄▄▄▄▄▅▅▅▅▅▆▆▆▆▆▆▇▇▇▇█\n",
            "\u001b[34m\u001b[1mwandb\u001b[0m: \n",
            "\u001b[34m\u001b[1mwandb\u001b[0m: Run summary:\n",
            "\u001b[34m\u001b[1mwandb\u001b[0m: episode_length 331.42719\n",
            "\u001b[34m\u001b[1mwandb\u001b[0m:         return 10.9398\n",
            "\u001b[34m\u001b[1mwandb\u001b[0m:      timesteps 9895936\n",
            "\u001b[34m\u001b[1mwandb\u001b[0m:         update 151\n",
            "\u001b[34m\u001b[1mwandb\u001b[0m: \n",
            "\u001b[34m\u001b[1mwandb\u001b[0m: 🚀 View run \u001b[33mcraftax_seed0\u001b[0m at: \u001b[34m\u001b[4mhttps://wandb.ai/maharishiva/lit-transformer-ppo/runs/tdvtjxia\u001b[0m\n",
            "\u001b[34m\u001b[1mwandb\u001b[0m: ⭐️ View project at: \u001b[34m\u001b[4mhttps://wandb.ai/maharishiva/lit-transformer-ppo\u001b[0m\n",
            "\u001b[34m\u001b[1mwandb\u001b[0m: Synced 5 W&B file(s), 0 media file(s), 0 artifact file(s) and 0 other file(s)\n",
            "\u001b[34m\u001b[1mwandb\u001b[0m: Find logs at: \u001b[35m\u001b[1m./wandb/run-20250317_231708-tdvtjxia/logs\u001b[0m\n"
          ]
        }
      ],
      "source": [
        "!python train_PPO_trXL.py"
      ]
    },
    {
      "cell_type": "code",
      "execution_count": 7,
      "metadata": {
        "colab": {
          "base_uri": "https://localhost:8080/"
        },
        "id": "blSnJqHTiXzv",
        "outputId": "7569dd9d-37d1-44fd-ff7d-3e77ea8a5a67"
      },
      "outputs": [
        {
          "data": {
            "text/plain": [
              "10"
            ]
          },
          "execution_count": 7,
          "metadata": {},
          "output_type": "execute_result"
        }
      ],
      "source": []
    },
    {
      "cell_type": "code",
      "execution_count": 5,
      "metadata": {
        "colab": {
          "base_uri": "https://localhost:8080/"
        },
        "id": "JrNeYHzWjMkt",
        "outputId": "004ff8f1-33e7-4831-f1ea-66b4f3a649dc"
      },
      "outputs": [
        {
          "data": {
            "text/plain": [
              "[CudaDevice(id=0)]"
            ]
          },
          "execution_count": 5,
          "metadata": {},
          "output_type": "execute_result"
        }
      ],
      "source": []
    },
    {
      "cell_type": "markdown",
      "metadata": {},
      "source": [
        "# env replay"
      ]
    },
    {
      "cell_type": "code",
      "execution_count": 1,
      "metadata": {
        "id": "3Xg8UlzIjdH5"
      },
      "outputs": [
        {
          "name": "stdout",
          "output_type": "stream",
          "text": [
            "Loading textures from cache.\n",
            "Textures successfully loaded from cache.\n"
          ]
        },
        {
          "ename": "ModuleNotFoundError",
          "evalue": "No module named 'distutils'",
          "output_type": "error",
          "traceback": [
            "\u001b[31m---------------------------------------------------------------------------\u001b[39m",
            "\u001b[31mModuleNotFoundError\u001b[39m                       Traceback (most recent call last)",
            "\u001b[36mCell\u001b[39m\u001b[36m \u001b[39m\u001b[32mIn[1]\u001b[39m\u001b[32m, line 7\u001b[39m\n\u001b[32m      5\u001b[39m \u001b[38;5;28;01mfrom\u001b[39;00m \u001b[34;01mcraftax\u001b[39;00m\u001b[34;01m.\u001b[39;00m\u001b[34;01mcraftax\u001b[39;00m\u001b[34;01m.\u001b[39;00m\u001b[34;01menvs\u001b[39;00m\u001b[34;01m.\u001b[39;00m\u001b[34;01mcraftax_symbolic_env\u001b[39;00m \u001b[38;5;28;01mimport\u001b[39;00m CraftaxSymbolicEnv\n\u001b[32m      6\u001b[39m \u001b[38;5;28;01mfrom\u001b[39;00m \u001b[34;01mtransformerXL\u001b[39;00m \u001b[38;5;28;01mimport\u001b[39;00m Transformer\n\u001b[32m----> \u001b[39m\u001b[32m7\u001b[39m \u001b[38;5;28;01mfrom\u001b[39;00m \u001b[34;01mtrainer_PPO_trXL\u001b[39;00m \u001b[38;5;28;01mimport\u001b[39;00m ActorCriticTransformer\n\u001b[32m      9\u001b[39m \u001b[38;5;66;03m# Load saved model parameters and config\u001b[39;00m\n\u001b[32m     10\u001b[39m seed = \u001b[32m0\u001b[39m\n",
            "\u001b[36mFile \u001b[39m\u001b[32m~/Documents/projects/RL/lit/transformerXL_PPO_JAX/trainer_PPO_trXL.py:12\u001b[39m\n\u001b[32m     10\u001b[39m \u001b[38;5;28;01mimport\u001b[39;00m \u001b[34;01mgymnax\u001b[39;00m\n\u001b[32m     11\u001b[39m \u001b[38;5;28;01mfrom\u001b[39;00m \u001b[34;01mgymnax\u001b[39;00m\u001b[34;01m.\u001b[39;00m\u001b[34;01mwrappers\u001b[39;00m\u001b[34;01m.\u001b[39;00m\u001b[34;01mpurerl\u001b[39;00m \u001b[38;5;28;01mimport\u001b[39;00m  FlattenObservationWrapper\n\u001b[32m---> \u001b[39m\u001b[32m12\u001b[39m \u001b[38;5;28;01mimport\u001b[39;00m \u001b[34;01mwandb\u001b[39;00m\n\u001b[32m     15\u001b[39m \u001b[38;5;66;03m# Custom TrainState to track step count\u001b[39;00m\n\u001b[32m     16\u001b[39m \u001b[38;5;28;01mclass\u001b[39;00m \u001b[34;01mCustomTrainState\u001b[39;00m(TrainState):\n",
            "\u001b[36mFile \u001b[39m\u001b[32m~/Documents/projects/RL/lit/transformerXL_PPO_JAX/.venv/lib/python3.12/site-packages/wandb/__init__.py:21\u001b[39m\n\u001b[32m     18\u001b[39m \u001b[38;5;66;03m# This needs to be early as other modules call it.\u001b[39;00m\n\u001b[32m     19\u001b[39m \u001b[38;5;28;01mfrom\u001b[39;00m \u001b[34;01mwandb\u001b[39;00m\u001b[34;01m.\u001b[39;00m\u001b[34;01merrors\u001b[39;00m\u001b[34;01m.\u001b[39;00m\u001b[34;01mterm\u001b[39;00m \u001b[38;5;28;01mimport\u001b[39;00m termsetup, termlog, termerror, termwarn\n\u001b[32m---> \u001b[39m\u001b[32m21\u001b[39m \u001b[38;5;28;01mfrom\u001b[39;00m \u001b[34;01mwandb\u001b[39;00m \u001b[38;5;28;01mimport\u001b[39;00m sdk \u001b[38;5;28;01mas\u001b[39;00m wandb_sdk\n\u001b[32m     23\u001b[39m \u001b[38;5;28;01mimport\u001b[39;00m \u001b[34;01mwandb\u001b[39;00m\n\u001b[32m     25\u001b[39m wandb.wandb_lib = wandb_sdk.lib  \u001b[38;5;66;03m# type: ignore\u001b[39;00m\n",
            "\u001b[36mFile \u001b[39m\u001b[32m~/Documents/projects/RL/lit/transformerXL_PPO_JAX/.venv/lib/python3.12/site-packages/wandb/sdk/__init__.py:25\u001b[39m\n\u001b[32m      3\u001b[39m __all__ = (\n\u001b[32m      4\u001b[39m     \u001b[33m\"\u001b[39m\u001b[33mConfig\u001b[39m\u001b[33m\"\u001b[39m,\n\u001b[32m      5\u001b[39m     \u001b[33m\"\u001b[39m\u001b[33mSettings\u001b[39m\u001b[33m\"\u001b[39m,\n\u001b[32m   (...)\u001b[39m\u001b[32m     21\u001b[39m     \u001b[33m\"\u001b[39m\u001b[33mhelper\u001b[39m\u001b[33m\"\u001b[39m,\n\u001b[32m     22\u001b[39m )\n\u001b[32m     24\u001b[39m \u001b[38;5;28;01mfrom\u001b[39;00m \u001b[34;01m.\u001b[39;00m \u001b[38;5;28;01mimport\u001b[39;00m wandb_helper \u001b[38;5;28;01mas\u001b[39;00m helper\n\u001b[32m---> \u001b[39m\u001b[32m25\u001b[39m \u001b[38;5;28;01mfrom\u001b[39;00m \u001b[34;01m.\u001b[39;00m\u001b[34;01martifacts\u001b[39;00m\u001b[34;01m.\u001b[39;00m\u001b[34;01martifact\u001b[39;00m \u001b[38;5;28;01mimport\u001b[39;00m Artifact\n\u001b[32m     26\u001b[39m \u001b[38;5;28;01mfrom\u001b[39;00m \u001b[34;01m.\u001b[39;00m\u001b[34;01mwandb_alerts\u001b[39;00m \u001b[38;5;28;01mimport\u001b[39;00m AlertLevel\n\u001b[32m     27\u001b[39m \u001b[38;5;28;01mfrom\u001b[39;00m \u001b[34;01m.\u001b[39;00m\u001b[34;01mwandb_config\u001b[39;00m \u001b[38;5;28;01mimport\u001b[39;00m Config\n",
            "\u001b[36mFile \u001b[39m\u001b[32m~/Documents/projects/RL/lit/transformerXL_PPO_JAX/.venv/lib/python3.12/site-packages/wandb/sdk/artifacts/artifact.py:28\u001b[39m\n\u001b[32m     26\u001b[39m \u001b[38;5;28;01mimport\u001b[39;00m \u001b[34;01mwandb\u001b[39;00m\n\u001b[32m     27\u001b[39m \u001b[38;5;28;01mfrom\u001b[39;00m \u001b[34;01mwandb\u001b[39;00m \u001b[38;5;28;01mimport\u001b[39;00m data_types, env, util\n\u001b[32m---> \u001b[39m\u001b[32m28\u001b[39m \u001b[38;5;28;01mfrom\u001b[39;00m \u001b[34;01mwandb\u001b[39;00m\u001b[34;01m.\u001b[39;00m\u001b[34;01mapis\u001b[39;00m\u001b[34;01m.\u001b[39;00m\u001b[34;01mnormalize\u001b[39;00m \u001b[38;5;28;01mimport\u001b[39;00m normalize_exceptions\n\u001b[32m     29\u001b[39m \u001b[38;5;28;01mfrom\u001b[39;00m \u001b[34;01mwandb\u001b[39;00m\u001b[34;01m.\u001b[39;00m\u001b[34;01mapis\u001b[39;00m\u001b[34;01m.\u001b[39;00m\u001b[34;01mpublic\u001b[39;00m \u001b[38;5;28;01mimport\u001b[39;00m ArtifactCollection, ArtifactFiles, RetryingClient, Run\n\u001b[32m     30\u001b[39m \u001b[38;5;28;01mfrom\u001b[39;00m \u001b[34;01mwandb\u001b[39;00m\u001b[34;01m.\u001b[39;00m\u001b[34;01mdata_types\u001b[39;00m \u001b[38;5;28;01mimport\u001b[39;00m WBValue\n",
            "\u001b[36mFile \u001b[39m\u001b[32m~/Documents/projects/RL/lit/transformerXL_PPO_JAX/.venv/lib/python3.12/site-packages/wandb/apis/__init__.py:44\u001b[39m\n\u001b[32m     41\u001b[39m reset_path = util.vendor_setup()\n\u001b[32m     43\u001b[39m \u001b[38;5;28;01mfrom\u001b[39;00m \u001b[34;01m.\u001b[39;00m\u001b[34;01minternal\u001b[39;00m \u001b[38;5;28;01mimport\u001b[39;00m Api \u001b[38;5;28;01mas\u001b[39;00m InternalApi  \u001b[38;5;66;03m# noqa\u001b[39;00m\n\u001b[32m---> \u001b[39m\u001b[32m44\u001b[39m \u001b[38;5;28;01mfrom\u001b[39;00m \u001b[34;01m.\u001b[39;00m\u001b[34;01mpublic\u001b[39;00m \u001b[38;5;28;01mimport\u001b[39;00m Api \u001b[38;5;28;01mas\u001b[39;00m PublicApi  \u001b[38;5;66;03m# noqa\u001b[39;00m\n\u001b[32m     46\u001b[39m reset_path()\n\u001b[32m     48\u001b[39m __all__ = [\u001b[33m\"\u001b[39m\u001b[33mInternalApi\u001b[39m\u001b[33m\"\u001b[39m, \u001b[33m\"\u001b[39m\u001b[33mPublicApi\u001b[39m\u001b[33m\"\u001b[39m]\n",
            "\u001b[36mFile \u001b[39m\u001b[32m~/Documents/projects/RL/lit/transformerXL_PPO_JAX/.venv/lib/python3.12/site-packages/wandb/apis/public/__init__.py:1\u001b[39m\n\u001b[32m----> \u001b[39m\u001b[32m1\u001b[39m \u001b[38;5;28;01mfrom\u001b[39;00m \u001b[34;01mwandb\u001b[39;00m\u001b[34;01m.\u001b[39;00m\u001b[34;01mapis\u001b[39;00m\u001b[34;01m.\u001b[39;00m\u001b[34;01mpublic\u001b[39;00m\u001b[34;01m.\u001b[39;00m\u001b[34;01mapi\u001b[39;00m \u001b[38;5;28;01mimport\u001b[39;00m Api, RetryingClient, requests\n\u001b[32m      2\u001b[39m \u001b[38;5;28;01mfrom\u001b[39;00m \u001b[34;01mwandb\u001b[39;00m\u001b[34;01m.\u001b[39;00m\u001b[34;01mapis\u001b[39;00m\u001b[34;01m.\u001b[39;00m\u001b[34;01mpublic\u001b[39;00m\u001b[34;01m.\u001b[39;00m\u001b[34;01martifacts\u001b[39;00m \u001b[38;5;28;01mimport\u001b[39;00m (\n\u001b[32m      3\u001b[39m     ARTIFACT_FILES_FRAGMENT,\n\u001b[32m      4\u001b[39m     ARTIFACTS_TYPES_FRAGMENT,\n\u001b[32m   (...)\u001b[39m\u001b[32m     11\u001b[39m     RunArtifacts,\n\u001b[32m     12\u001b[39m )\n\u001b[32m     13\u001b[39m \u001b[38;5;28;01mfrom\u001b[39;00m \u001b[34;01mwandb\u001b[39;00m\u001b[34;01m.\u001b[39;00m\u001b[34;01mapis\u001b[39;00m\u001b[34;01m.\u001b[39;00m\u001b[34;01mpublic\u001b[39;00m\u001b[34;01m.\u001b[39;00m\u001b[34;01mfiles\u001b[39;00m \u001b[38;5;28;01mimport\u001b[39;00m FILE_FRAGMENT, File, Files\n",
            "\u001b[36mFile \u001b[39m\u001b[32m~/Documents/projects/RL/lit/transformerXL_PPO_JAX/.venv/lib/python3.12/site-packages/wandb/apis/public/api.py:33\u001b[39m\n\u001b[32m     31\u001b[39m \u001b[38;5;28;01mfrom\u001b[39;00m \u001b[34;01mwandb\u001b[39;00m\u001b[34;01m.\u001b[39;00m\u001b[34;01msdk\u001b[39;00m\u001b[34;01m.\u001b[39;00m\u001b[34;01minternal\u001b[39;00m\u001b[34;01m.\u001b[39;00m\u001b[34;01minternal_api\u001b[39;00m \u001b[38;5;28;01mimport\u001b[39;00m Api \u001b[38;5;28;01mas\u001b[39;00m InternalApi\n\u001b[32m     32\u001b[39m \u001b[38;5;28;01mfrom\u001b[39;00m \u001b[34;01mwandb\u001b[39;00m\u001b[34;01m.\u001b[39;00m\u001b[34;01msdk\u001b[39;00m\u001b[34;01m.\u001b[39;00m\u001b[34;01minternal\u001b[39;00m\u001b[34;01m.\u001b[39;00m\u001b[34;01mthread_local_settings\u001b[39;00m \u001b[38;5;28;01mimport\u001b[39;00m _thread_local_api_settings\n\u001b[32m---> \u001b[39m\u001b[32m33\u001b[39m \u001b[38;5;28;01mfrom\u001b[39;00m \u001b[34;01mwandb\u001b[39;00m\u001b[34;01m.\u001b[39;00m\u001b[34;01msdk\u001b[39;00m\u001b[34;01m.\u001b[39;00m\u001b[34;01mlaunch\u001b[39;00m\u001b[34;01m.\u001b[39;00m\u001b[34;01mutils\u001b[39;00m \u001b[38;5;28;01mimport\u001b[39;00m LAUNCH_DEFAULT_PROJECT\n\u001b[32m     34\u001b[39m \u001b[38;5;28;01mfrom\u001b[39;00m \u001b[34;01mwandb\u001b[39;00m\u001b[34;01m.\u001b[39;00m\u001b[34;01msdk\u001b[39;00m\u001b[34;01m.\u001b[39;00m\u001b[34;01mlib\u001b[39;00m \u001b[38;5;28;01mimport\u001b[39;00m retry, runid\n\u001b[32m     35\u001b[39m \u001b[38;5;28;01mfrom\u001b[39;00m \u001b[34;01mwandb\u001b[39;00m\u001b[34;01m.\u001b[39;00m\u001b[34;01msdk\u001b[39;00m\u001b[34;01m.\u001b[39;00m\u001b[34;01mlib\u001b[39;00m\u001b[34;01m.\u001b[39;00m\u001b[34;01mdeprecate\u001b[39;00m \u001b[38;5;28;01mimport\u001b[39;00m Deprecated, deprecate\n",
            "\u001b[36mFile \u001b[39m\u001b[32m~/Documents/projects/RL/lit/transformerXL_PPO_JAX/.venv/lib/python3.12/site-packages/wandb/sdk/launch/__init__.py:1\u001b[39m\n\u001b[32m----> \u001b[39m\u001b[32m1\u001b[39m \u001b[38;5;28;01mfrom\u001b[39;00m \u001b[34;01m.\u001b[39;00m\u001b[34;01m_launch\u001b[39;00m \u001b[38;5;28;01mimport\u001b[39;00m create_and_run_agent, launch\n\u001b[32m      2\u001b[39m \u001b[38;5;28;01mfrom\u001b[39;00m \u001b[34;01m.\u001b[39;00m\u001b[34;01m_launch_add\u001b[39;00m \u001b[38;5;28;01mimport\u001b[39;00m launch_add\n\u001b[32m      3\u001b[39m \u001b[38;5;28;01mfrom\u001b[39;00m \u001b[34;01m.\u001b[39;00m\u001b[34;01magent\u001b[39;00m\u001b[34;01m.\u001b[39;00m\u001b[34;01magent\u001b[39;00m \u001b[38;5;28;01mimport\u001b[39;00m LaunchAgent\n",
            "\u001b[36mFile \u001b[39m\u001b[32m~/Documents/projects/RL/lit/transformerXL_PPO_JAX/.venv/lib/python3.12/site-packages/wandb/sdk/launch/_launch.py:12\u001b[39m\n\u001b[32m      9\u001b[39m \u001b[38;5;28;01mimport\u001b[39;00m \u001b[34;01mwandb\u001b[39;00m\n\u001b[32m     10\u001b[39m \u001b[38;5;28;01mfrom\u001b[39;00m \u001b[34;01mwandb\u001b[39;00m\u001b[34;01m.\u001b[39;00m\u001b[34;01mapis\u001b[39;00m\u001b[34;01m.\u001b[39;00m\u001b[34;01minternal\u001b[39;00m \u001b[38;5;28;01mimport\u001b[39;00m Api\n\u001b[32m---> \u001b[39m\u001b[32m12\u001b[39m \u001b[38;5;28;01mfrom\u001b[39;00m \u001b[34;01m.\u001b[39;00m \u001b[38;5;28;01mimport\u001b[39;00m loader\n\u001b[32m     13\u001b[39m \u001b[38;5;28;01mfrom\u001b[39;00m \u001b[34;01m.\u001b[39;00m\u001b[34;01m_project_spec\u001b[39;00m \u001b[38;5;28;01mimport\u001b[39;00m LaunchProject\n\u001b[32m     14\u001b[39m \u001b[38;5;28;01mfrom\u001b[39;00m \u001b[34;01m.\u001b[39;00m\u001b[34;01magent\u001b[39;00m \u001b[38;5;28;01mimport\u001b[39;00m LaunchAgent\n",
            "\u001b[36mFile \u001b[39m\u001b[32m~/Documents/projects/RL/lit/transformerXL_PPO_JAX/.venv/lib/python3.12/site-packages/wandb/sdk/launch/loader.py:7\u001b[39m\n\u001b[32m      5\u001b[39m \u001b[38;5;28;01mimport\u001b[39;00m \u001b[34;01mwandb\u001b[39;00m\n\u001b[32m      6\u001b[39m \u001b[38;5;28;01mfrom\u001b[39;00m \u001b[34;01mwandb\u001b[39;00m\u001b[34;01m.\u001b[39;00m\u001b[34;01mapis\u001b[39;00m\u001b[34;01m.\u001b[39;00m\u001b[34;01minternal\u001b[39;00m \u001b[38;5;28;01mimport\u001b[39;00m Api\n\u001b[32m----> \u001b[39m\u001b[32m7\u001b[39m \u001b[38;5;28;01mfrom\u001b[39;00m \u001b[34;01mwandb\u001b[39;00m\u001b[34;01m.\u001b[39;00m\u001b[34;01mdocker\u001b[39;00m \u001b[38;5;28;01mimport\u001b[39;00m is_docker_installed\n\u001b[32m      8\u001b[39m \u001b[38;5;28;01mfrom\u001b[39;00m \u001b[34;01mwandb\u001b[39;00m\u001b[34;01m.\u001b[39;00m\u001b[34;01msdk\u001b[39;00m\u001b[34;01m.\u001b[39;00m\u001b[34;01mlaunch\u001b[39;00m\u001b[34;01m.\u001b[39;00m\u001b[34;01merrors\u001b[39;00m \u001b[38;5;28;01mimport\u001b[39;00m LaunchError\n\u001b[32m     10\u001b[39m \u001b[38;5;28;01mfrom\u001b[39;00m \u001b[34;01m.\u001b[39;00m\u001b[34;01mbuilder\u001b[39;00m\u001b[34;01m.\u001b[39;00m\u001b[34;01mabstract\u001b[39;00m \u001b[38;5;28;01mimport\u001b[39;00m AbstractBuilder\n",
            "\u001b[36mFile \u001b[39m\u001b[32m~/Documents/projects/RL/lit/transformerXL_PPO_JAX/.venv/lib/python3.12/site-packages/wandb/docker/__init__.py:8\u001b[39m\n\u001b[32m      5\u001b[39m \u001b[38;5;28;01mfrom\u001b[39;00m \u001b[34;01mtyping\u001b[39;00m \u001b[38;5;28;01mimport\u001b[39;00m Any, Dict, List, Optional, Tuple, Union\n\u001b[32m      7\u001b[39m \u001b[38;5;28;01mimport\u001b[39;00m \u001b[34;01mrequests\u001b[39;00m\n\u001b[32m----> \u001b[39m\u001b[32m8\u001b[39m \u001b[38;5;28;01mfrom\u001b[39;00m \u001b[34;01mdockerpycreds\u001b[39;00m\u001b[34;01m.\u001b[39;00m\u001b[34;01mutils\u001b[39;00m \u001b[38;5;28;01mimport\u001b[39;00m find_executable  \u001b[38;5;66;03m# type: ignore\u001b[39;00m\n\u001b[32m     10\u001b[39m \u001b[38;5;28;01mfrom\u001b[39;00m \u001b[34;01mwandb\u001b[39;00m\u001b[34;01m.\u001b[39;00m\u001b[34;01mdocker\u001b[39;00m \u001b[38;5;28;01mimport\u001b[39;00m auth, www_authenticate\n\u001b[32m     11\u001b[39m \u001b[38;5;28;01mfrom\u001b[39;00m \u001b[34;01mwandb\u001b[39;00m\u001b[34;01m.\u001b[39;00m\u001b[34;01merrors\u001b[39;00m \u001b[38;5;28;01mimport\u001b[39;00m Error\n",
            "\u001b[36mFile \u001b[39m\u001b[32m~/Documents/projects/RL/lit/transformerXL_PPO_JAX/.venv/lib/python3.12/site-packages/dockerpycreds/__init__.py:2\u001b[39m\n\u001b[32m      1\u001b[39m \u001b[38;5;66;03m# flake8: noqa\u001b[39;00m\n\u001b[32m----> \u001b[39m\u001b[32m2\u001b[39m \u001b[38;5;28;01mfrom\u001b[39;00m \u001b[34;01m.\u001b[39;00m\u001b[34;01mstore\u001b[39;00m \u001b[38;5;28;01mimport\u001b[39;00m Store\n\u001b[32m      3\u001b[39m \u001b[38;5;28;01mfrom\u001b[39;00m \u001b[34;01m.\u001b[39;00m\u001b[34;01merrors\u001b[39;00m \u001b[38;5;28;01mimport\u001b[39;00m StoreError, CredentialsNotFound\n\u001b[32m      4\u001b[39m \u001b[38;5;28;01mfrom\u001b[39;00m \u001b[34;01m.\u001b[39;00m\u001b[34;01mconstants\u001b[39;00m \u001b[38;5;28;01mimport\u001b[39;00m *\n",
            "\u001b[36mFile \u001b[39m\u001b[32m~/Documents/projects/RL/lit/transformerXL_PPO_JAX/.venv/lib/python3.12/site-packages/dockerpycreds/store.py:9\u001b[39m\n\u001b[32m      7\u001b[39m \u001b[38;5;28;01mfrom\u001b[39;00m \u001b[34;01m.\u001b[39;00m \u001b[38;5;28;01mimport\u001b[39;00m constants\n\u001b[32m      8\u001b[39m \u001b[38;5;28;01mfrom\u001b[39;00m \u001b[34;01m.\u001b[39;00m \u001b[38;5;28;01mimport\u001b[39;00m errors\n\u001b[32m----> \u001b[39m\u001b[32m9\u001b[39m \u001b[38;5;28;01mfrom\u001b[39;00m \u001b[34;01m.\u001b[39;00m\u001b[34;01mutils\u001b[39;00m \u001b[38;5;28;01mimport\u001b[39;00m create_environment_dict\n\u001b[32m     10\u001b[39m \u001b[38;5;28;01mfrom\u001b[39;00m \u001b[34;01m.\u001b[39;00m\u001b[34;01mutils\u001b[39;00m \u001b[38;5;28;01mimport\u001b[39;00m find_executable\n\u001b[32m     13\u001b[39m \u001b[38;5;28;01mclass\u001b[39;00m \u001b[34;01mStore\u001b[39;00m(\u001b[38;5;28mobject\u001b[39m):\n",
            "\u001b[36mFile \u001b[39m\u001b[32m~/Documents/projects/RL/lit/transformerXL_PPO_JAX/.venv/lib/python3.12/site-packages/dockerpycreds/utils.py:1\u001b[39m\n\u001b[32m----> \u001b[39m\u001b[32m1\u001b[39m \u001b[38;5;28;01mimport\u001b[39;00m \u001b[34;01mdistutils\u001b[39;00m\u001b[34;01m.\u001b[39;00m\u001b[34;01mspawn\u001b[39;00m\n\u001b[32m      2\u001b[39m \u001b[38;5;28;01mimport\u001b[39;00m \u001b[34;01mos\u001b[39;00m\n\u001b[32m      3\u001b[39m \u001b[38;5;28;01mimport\u001b[39;00m \u001b[34;01msys\u001b[39;00m\n",
            "\u001b[31mModuleNotFoundError\u001b[39m: No module named 'distutils'"
          ]
        }
      ],
      "source": [
        "import jax\n",
        "import jax.numpy as jnp\n",
        "import numpy as np\n",
        "import imageio\n",
        "from craftax.craftax.envs.craftax_symbolic_env import CraftaxSymbolicEnv\n",
        "from craftax.craftax.renderer import render_craftax_pixels, render_craftax_symbolic\n",
        "from transformerXL import Transformer\n",
        "from trainer_PPO_trXL import ActorCriticTransformer\n",
        "\n",
        "# Load saved model parameters and config\n",
        "params = jnp.load(\"results_craftax/craftax/0_params.npy\", allow_pickle=True).item()\n",
        "config = jnp.load(\"results_craftax/craftax/0_config.npy\", allow_pickle=True).item()\n",
        "\n",
        "# Set up environment (assumed jitted) and its parameters\n",
        "env = CraftaxSymbolicEnv()\n",
        "env_params = env.default_params\n",
        "\n",
        "# Create model\n",
        "network = ActorCriticTransformer(\n",
        "    action_dim=env.action_space(env_params).n,\n",
        "    activation=config[\"ACTIVATION\"],\n",
        "    encoder_size=config[\"EMBED_SIZE\"],\n",
        "    hidden_layers=config[\"hidden_layers\"],\n",
        "    num_heads=config[\"num_heads\"],\n",
        "    qkv_features=config[\"qkv_features\"],\n",
        "    num_layers=config[\"num_layers\"],\n",
        "    gating=config[\"gating\"],\n",
        "    gating_bias=config[\"gating_bias\"],\n",
        ")\n",
        "\n",
        "# Initialize random key and environment\n",
        "rng = jax.random.PRNGKey(0)\n",
        "rng, _rng = jax.random.split(rng)\n",
        "obs, state = env.reset(_rng, env_params)\n",
        "\n",
        "# Duplicate observation to create a dummy batch of size 2 (needed by the transformer)\n",
        "obs = obs[None, :]                  \n",
        "obs = jnp.concatenate([obs, obs], axis=0)\n",
        "\n",
        "# Initialize memories and mask\n",
        "memories = jnp.zeros((2, config[\"WINDOW_MEM\"], config[\"num_layers\"], config[\"EMBED_SIZE\"]))\n",
        "memories_mask = jnp.zeros((2, config[\"num_heads\"], 1, config[\"WINDOW_MEM\"] + 1), dtype=jnp.bool_)\n",
        "\n",
        "# Define a single simulation step that is fully JIT-compilable.\n",
        "@jax.jit\n",
        "def sim_step(carry, _):\n",
        "    rng, memories, obs, state = carry\n",
        "\n",
        "    # Get model output (batched call)\n",
        "    rng, _rng = jax.random.split(rng)\n",
        "    pi, _, memories_out = network.apply(\n",
        "        params, memories, obs, memories_mask, method=network.model_forward_eval\n",
        "    )\n",
        "    # Sample action from the first batch element (batch elements are identical)\n",
        "    action = pi.sample(seed=_rng)[0]\n",
        "\n",
        "    # Update memories: roll the time dimension and update the last slot.\n",
        "    memories = jnp.roll(memories, -1, axis=1)\n",
        "    new_mem = memories_out[0]  # shape: (num_layers, EMBED_SIZE)\n",
        "    new_mem_batched = jnp.broadcast_to(new_mem, (2,) + new_mem.shape)\n",
        "    memories = memories.at[:, -1].set(new_mem_batched)\n",
        "\n",
        "    # Step the environment (jitted) and re-batch the observation\n",
        "    rng, _rng = jax.random.split(rng)\n",
        "    obs_unbatched, state, reward, done, info = env.step(_rng, state, action, env_params)\n",
        "    obs = jnp.concatenate([obs_unbatched[None, :], obs_unbatched[None, :]], axis=0)\n",
        "\n",
        "    new_carry = (rng, memories, obs, state)\n",
        "    # For later rendering, we record the state at this step.\n",
        "    output = state\n",
        "    return new_carry, output\n",
        "\n",
        "# Run the entire simulation loop with jax.lax.scan for 100 steps.\n",
        "carry = (rng, memories, obs, state)\n",
        "carry, state_history = jax.lax.scan(sim_step, carry, None, length=1000)\n",
        "\n",
        "v_render = jax.vmap(lambda s: render_craftax_pixels(s, 64))\n",
        "# This returns an array (or pytree of arrays) where the leading axis corresponds to the time steps.\n",
        "frames_pixels = v_render(state_history)\n",
        "\n",
        "# Convert the rendered frames from JAX to NumPy (if not already on the CPU).\n",
        "frames_pixels_np = np.array(frames_pixels)\n",
        "\n",
        "# Combine the initial frame with the rest.\n",
        "# We assume that each frame is an image array.\n",
        "frames = [frame for frame in frames_pixels_np]\n",
        "\n",
        "# Save the frames as an MP4 video.\n",
        "frames_np = np.array(frames[:], dtype=np.uint8)\n",
        "imageio.mimsave('craftax_replay.mp4', frames_np, fps=30)\n",
        "print(f\"Saved {len(frames)} frames to craftax_replay.mp4\")\n"
      ]
    },
    {
      "cell_type": "code",
      "execution_count": null,
      "metadata": {},
      "outputs": [],
      "source": []
    }
  ],
  "metadata": {
    "accelerator": "GPU",
    "colab": {
      "gpuType": "A100",
      "machine_shape": "hm",
      "provenance": []
    },
    "kernelspec": {
      "display_name": "Python 3",
      "name": "python3"
    },
    "language_info": {
      "codemirror_mode": {
        "name": "ipython",
        "version": 3
      },
      "file_extension": ".py",
      "mimetype": "text/x-python",
      "name": "python",
      "nbconvert_exporter": "python",
      "pygments_lexer": "ipython3",
      "version": "3.12.4"
    }
  },
  "nbformat": 4,
  "nbformat_minor": 0
}
