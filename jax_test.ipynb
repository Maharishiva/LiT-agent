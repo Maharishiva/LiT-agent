{
 "cells": [
  {
   "cell_type": "code",
   "execution_count": 3,
   "metadata": {},
   "outputs": [
    {
     "ename": "ModuleNotFoundError",
     "evalue": "No module named 'distutils'",
     "output_type": "error",
     "traceback": [
      "\u001b[31m---------------------------------------------------------------------------\u001b[39m",
      "\u001b[31mModuleNotFoundError\u001b[39m                       Traceback (most recent call last)",
      "\u001b[36mCell\u001b[39m\u001b[36m \u001b[39m\u001b[32mIn[3]\u001b[39m\u001b[32m, line 12\u001b[39m\n\u001b[32m     10\u001b[39m \u001b[38;5;28;01mimport\u001b[39;00m \u001b[34;01mgymnax\u001b[39;00m\n\u001b[32m     11\u001b[39m \u001b[38;5;28;01mfrom\u001b[39;00m \u001b[34;01mgymnax\u001b[39;00m\u001b[34;01m.\u001b[39;00m\u001b[34;01mwrappers\u001b[39;00m\u001b[34;01m.\u001b[39;00m\u001b[34;01mpurerl\u001b[39;00m \u001b[38;5;28;01mimport\u001b[39;00m  FlattenObservationWrapper\n\u001b[32m---> \u001b[39m\u001b[32m12\u001b[39m \u001b[38;5;28;01mimport\u001b[39;00m \u001b[34;01mwandb\u001b[39;00m\n\u001b[32m     15\u001b[39m \u001b[38;5;66;03m# Custom TrainState to track step count\u001b[39;00m\n\u001b[32m     16\u001b[39m \u001b[38;5;28;01mclass\u001b[39;00m \u001b[34;01mCustomTrainState\u001b[39;00m(TrainState):\n",
      "\u001b[36mFile \u001b[39m\u001b[32m~/Documents/projects/RL/lit/transformerXL_PPO_JAX/.venv/lib/python3.12/site-packages/wandb/__init__.py:21\u001b[39m\n\u001b[32m     18\u001b[39m \u001b[38;5;66;03m# This needs to be early as other modules call it.\u001b[39;00m\n\u001b[32m     19\u001b[39m \u001b[38;5;28;01mfrom\u001b[39;00m \u001b[34;01mwandb\u001b[39;00m\u001b[34;01m.\u001b[39;00m\u001b[34;01merrors\u001b[39;00m\u001b[34;01m.\u001b[39;00m\u001b[34;01mterm\u001b[39;00m \u001b[38;5;28;01mimport\u001b[39;00m termsetup, termlog, termerror, termwarn\n\u001b[32m---> \u001b[39m\u001b[32m21\u001b[39m \u001b[38;5;28;01mfrom\u001b[39;00m \u001b[34;01mwandb\u001b[39;00m \u001b[38;5;28;01mimport\u001b[39;00m sdk \u001b[38;5;28;01mas\u001b[39;00m wandb_sdk\n\u001b[32m     23\u001b[39m \u001b[38;5;28;01mimport\u001b[39;00m \u001b[34;01mwandb\u001b[39;00m\n\u001b[32m     25\u001b[39m wandb.wandb_lib = wandb_sdk.lib  \u001b[38;5;66;03m# type: ignore\u001b[39;00m\n",
      "\u001b[36mFile \u001b[39m\u001b[32m~/Documents/projects/RL/lit/transformerXL_PPO_JAX/.venv/lib/python3.12/site-packages/wandb/sdk/__init__.py:25\u001b[39m\n\u001b[32m      3\u001b[39m __all__ = (\n\u001b[32m      4\u001b[39m     \u001b[33m\"\u001b[39m\u001b[33mConfig\u001b[39m\u001b[33m\"\u001b[39m,\n\u001b[32m      5\u001b[39m     \u001b[33m\"\u001b[39m\u001b[33mSettings\u001b[39m\u001b[33m\"\u001b[39m,\n\u001b[32m   (...)\u001b[39m\u001b[32m     21\u001b[39m     \u001b[33m\"\u001b[39m\u001b[33mhelper\u001b[39m\u001b[33m\"\u001b[39m,\n\u001b[32m     22\u001b[39m )\n\u001b[32m     24\u001b[39m \u001b[38;5;28;01mfrom\u001b[39;00m \u001b[34;01m.\u001b[39;00m \u001b[38;5;28;01mimport\u001b[39;00m wandb_helper \u001b[38;5;28;01mas\u001b[39;00m helper\n\u001b[32m---> \u001b[39m\u001b[32m25\u001b[39m \u001b[38;5;28;01mfrom\u001b[39;00m \u001b[34;01m.\u001b[39;00m\u001b[34;01martifacts\u001b[39;00m\u001b[34;01m.\u001b[39;00m\u001b[34;01martifact\u001b[39;00m \u001b[38;5;28;01mimport\u001b[39;00m Artifact\n\u001b[32m     26\u001b[39m \u001b[38;5;28;01mfrom\u001b[39;00m \u001b[34;01m.\u001b[39;00m\u001b[34;01mwandb_alerts\u001b[39;00m \u001b[38;5;28;01mimport\u001b[39;00m AlertLevel\n\u001b[32m     27\u001b[39m \u001b[38;5;28;01mfrom\u001b[39;00m \u001b[34;01m.\u001b[39;00m\u001b[34;01mwandb_config\u001b[39;00m \u001b[38;5;28;01mimport\u001b[39;00m Config\n",
      "\u001b[36mFile \u001b[39m\u001b[32m~/Documents/projects/RL/lit/transformerXL_PPO_JAX/.venv/lib/python3.12/site-packages/wandb/sdk/artifacts/artifact.py:28\u001b[39m\n\u001b[32m     26\u001b[39m \u001b[38;5;28;01mimport\u001b[39;00m \u001b[34;01mwandb\u001b[39;00m\n\u001b[32m     27\u001b[39m \u001b[38;5;28;01mfrom\u001b[39;00m \u001b[34;01mwandb\u001b[39;00m \u001b[38;5;28;01mimport\u001b[39;00m data_types, env, util\n\u001b[32m---> \u001b[39m\u001b[32m28\u001b[39m \u001b[38;5;28;01mfrom\u001b[39;00m \u001b[34;01mwandb\u001b[39;00m\u001b[34;01m.\u001b[39;00m\u001b[34;01mapis\u001b[39;00m\u001b[34;01m.\u001b[39;00m\u001b[34;01mnormalize\u001b[39;00m \u001b[38;5;28;01mimport\u001b[39;00m normalize_exceptions\n\u001b[32m     29\u001b[39m \u001b[38;5;28;01mfrom\u001b[39;00m \u001b[34;01mwandb\u001b[39;00m\u001b[34;01m.\u001b[39;00m\u001b[34;01mapis\u001b[39;00m\u001b[34;01m.\u001b[39;00m\u001b[34;01mpublic\u001b[39;00m \u001b[38;5;28;01mimport\u001b[39;00m ArtifactCollection, ArtifactFiles, RetryingClient, Run\n\u001b[32m     30\u001b[39m \u001b[38;5;28;01mfrom\u001b[39;00m \u001b[34;01mwandb\u001b[39;00m\u001b[34;01m.\u001b[39;00m\u001b[34;01mdata_types\u001b[39;00m \u001b[38;5;28;01mimport\u001b[39;00m WBValue\n",
      "\u001b[36mFile \u001b[39m\u001b[32m~/Documents/projects/RL/lit/transformerXL_PPO_JAX/.venv/lib/python3.12/site-packages/wandb/apis/__init__.py:44\u001b[39m\n\u001b[32m     41\u001b[39m reset_path = util.vendor_setup()\n\u001b[32m     43\u001b[39m \u001b[38;5;28;01mfrom\u001b[39;00m \u001b[34;01m.\u001b[39;00m\u001b[34;01minternal\u001b[39;00m \u001b[38;5;28;01mimport\u001b[39;00m Api \u001b[38;5;28;01mas\u001b[39;00m InternalApi  \u001b[38;5;66;03m# noqa\u001b[39;00m\n\u001b[32m---> \u001b[39m\u001b[32m44\u001b[39m \u001b[38;5;28;01mfrom\u001b[39;00m \u001b[34;01m.\u001b[39;00m\u001b[34;01mpublic\u001b[39;00m \u001b[38;5;28;01mimport\u001b[39;00m Api \u001b[38;5;28;01mas\u001b[39;00m PublicApi  \u001b[38;5;66;03m# noqa\u001b[39;00m\n\u001b[32m     46\u001b[39m reset_path()\n\u001b[32m     48\u001b[39m __all__ = [\u001b[33m\"\u001b[39m\u001b[33mInternalApi\u001b[39m\u001b[33m\"\u001b[39m, \u001b[33m\"\u001b[39m\u001b[33mPublicApi\u001b[39m\u001b[33m\"\u001b[39m]\n",
      "\u001b[36mFile \u001b[39m\u001b[32m~/Documents/projects/RL/lit/transformerXL_PPO_JAX/.venv/lib/python3.12/site-packages/wandb/apis/public/__init__.py:1\u001b[39m\n\u001b[32m----> \u001b[39m\u001b[32m1\u001b[39m \u001b[38;5;28;01mfrom\u001b[39;00m \u001b[34;01mwandb\u001b[39;00m\u001b[34;01m.\u001b[39;00m\u001b[34;01mapis\u001b[39;00m\u001b[34;01m.\u001b[39;00m\u001b[34;01mpublic\u001b[39;00m\u001b[34;01m.\u001b[39;00m\u001b[34;01mapi\u001b[39;00m \u001b[38;5;28;01mimport\u001b[39;00m Api, RetryingClient, requests\n\u001b[32m      2\u001b[39m \u001b[38;5;28;01mfrom\u001b[39;00m \u001b[34;01mwandb\u001b[39;00m\u001b[34;01m.\u001b[39;00m\u001b[34;01mapis\u001b[39;00m\u001b[34;01m.\u001b[39;00m\u001b[34;01mpublic\u001b[39;00m\u001b[34;01m.\u001b[39;00m\u001b[34;01martifacts\u001b[39;00m \u001b[38;5;28;01mimport\u001b[39;00m (\n\u001b[32m      3\u001b[39m     ARTIFACT_FILES_FRAGMENT,\n\u001b[32m      4\u001b[39m     ARTIFACTS_TYPES_FRAGMENT,\n\u001b[32m   (...)\u001b[39m\u001b[32m     11\u001b[39m     RunArtifacts,\n\u001b[32m     12\u001b[39m )\n\u001b[32m     13\u001b[39m \u001b[38;5;28;01mfrom\u001b[39;00m \u001b[34;01mwandb\u001b[39;00m\u001b[34;01m.\u001b[39;00m\u001b[34;01mapis\u001b[39;00m\u001b[34;01m.\u001b[39;00m\u001b[34;01mpublic\u001b[39;00m\u001b[34;01m.\u001b[39;00m\u001b[34;01mfiles\u001b[39;00m \u001b[38;5;28;01mimport\u001b[39;00m FILE_FRAGMENT, File, Files\n",
      "\u001b[36mFile \u001b[39m\u001b[32m~/Documents/projects/RL/lit/transformerXL_PPO_JAX/.venv/lib/python3.12/site-packages/wandb/apis/public/api.py:33\u001b[39m\n\u001b[32m     31\u001b[39m \u001b[38;5;28;01mfrom\u001b[39;00m \u001b[34;01mwandb\u001b[39;00m\u001b[34;01m.\u001b[39;00m\u001b[34;01msdk\u001b[39;00m\u001b[34;01m.\u001b[39;00m\u001b[34;01minternal\u001b[39;00m\u001b[34;01m.\u001b[39;00m\u001b[34;01minternal_api\u001b[39;00m \u001b[38;5;28;01mimport\u001b[39;00m Api \u001b[38;5;28;01mas\u001b[39;00m InternalApi\n\u001b[32m     32\u001b[39m \u001b[38;5;28;01mfrom\u001b[39;00m \u001b[34;01mwandb\u001b[39;00m\u001b[34;01m.\u001b[39;00m\u001b[34;01msdk\u001b[39;00m\u001b[34;01m.\u001b[39;00m\u001b[34;01minternal\u001b[39;00m\u001b[34;01m.\u001b[39;00m\u001b[34;01mthread_local_settings\u001b[39;00m \u001b[38;5;28;01mimport\u001b[39;00m _thread_local_api_settings\n\u001b[32m---> \u001b[39m\u001b[32m33\u001b[39m \u001b[38;5;28;01mfrom\u001b[39;00m \u001b[34;01mwandb\u001b[39;00m\u001b[34;01m.\u001b[39;00m\u001b[34;01msdk\u001b[39;00m\u001b[34;01m.\u001b[39;00m\u001b[34;01mlaunch\u001b[39;00m\u001b[34;01m.\u001b[39;00m\u001b[34;01mutils\u001b[39;00m \u001b[38;5;28;01mimport\u001b[39;00m LAUNCH_DEFAULT_PROJECT\n\u001b[32m     34\u001b[39m \u001b[38;5;28;01mfrom\u001b[39;00m \u001b[34;01mwandb\u001b[39;00m\u001b[34;01m.\u001b[39;00m\u001b[34;01msdk\u001b[39;00m\u001b[34;01m.\u001b[39;00m\u001b[34;01mlib\u001b[39;00m \u001b[38;5;28;01mimport\u001b[39;00m retry, runid\n\u001b[32m     35\u001b[39m \u001b[38;5;28;01mfrom\u001b[39;00m \u001b[34;01mwandb\u001b[39;00m\u001b[34;01m.\u001b[39;00m\u001b[34;01msdk\u001b[39;00m\u001b[34;01m.\u001b[39;00m\u001b[34;01mlib\u001b[39;00m\u001b[34;01m.\u001b[39;00m\u001b[34;01mdeprecate\u001b[39;00m \u001b[38;5;28;01mimport\u001b[39;00m Deprecated, deprecate\n",
      "\u001b[36mFile \u001b[39m\u001b[32m~/Documents/projects/RL/lit/transformerXL_PPO_JAX/.venv/lib/python3.12/site-packages/wandb/sdk/launch/__init__.py:1\u001b[39m\n\u001b[32m----> \u001b[39m\u001b[32m1\u001b[39m \u001b[38;5;28;01mfrom\u001b[39;00m \u001b[34;01m.\u001b[39;00m\u001b[34;01m_launch\u001b[39;00m \u001b[38;5;28;01mimport\u001b[39;00m create_and_run_agent, launch\n\u001b[32m      2\u001b[39m \u001b[38;5;28;01mfrom\u001b[39;00m \u001b[34;01m.\u001b[39;00m\u001b[34;01m_launch_add\u001b[39;00m \u001b[38;5;28;01mimport\u001b[39;00m launch_add\n\u001b[32m      3\u001b[39m \u001b[38;5;28;01mfrom\u001b[39;00m \u001b[34;01m.\u001b[39;00m\u001b[34;01magent\u001b[39;00m\u001b[34;01m.\u001b[39;00m\u001b[34;01magent\u001b[39;00m \u001b[38;5;28;01mimport\u001b[39;00m LaunchAgent\n",
      "\u001b[36mFile \u001b[39m\u001b[32m~/Documents/projects/RL/lit/transformerXL_PPO_JAX/.venv/lib/python3.12/site-packages/wandb/sdk/launch/_launch.py:12\u001b[39m\n\u001b[32m      9\u001b[39m \u001b[38;5;28;01mimport\u001b[39;00m \u001b[34;01mwandb\u001b[39;00m\n\u001b[32m     10\u001b[39m \u001b[38;5;28;01mfrom\u001b[39;00m \u001b[34;01mwandb\u001b[39;00m\u001b[34;01m.\u001b[39;00m\u001b[34;01mapis\u001b[39;00m\u001b[34;01m.\u001b[39;00m\u001b[34;01minternal\u001b[39;00m \u001b[38;5;28;01mimport\u001b[39;00m Api\n\u001b[32m---> \u001b[39m\u001b[32m12\u001b[39m \u001b[38;5;28;01mfrom\u001b[39;00m \u001b[34;01m.\u001b[39;00m \u001b[38;5;28;01mimport\u001b[39;00m loader\n\u001b[32m     13\u001b[39m \u001b[38;5;28;01mfrom\u001b[39;00m \u001b[34;01m.\u001b[39;00m\u001b[34;01m_project_spec\u001b[39;00m \u001b[38;5;28;01mimport\u001b[39;00m LaunchProject\n\u001b[32m     14\u001b[39m \u001b[38;5;28;01mfrom\u001b[39;00m \u001b[34;01m.\u001b[39;00m\u001b[34;01magent\u001b[39;00m \u001b[38;5;28;01mimport\u001b[39;00m LaunchAgent\n",
      "\u001b[36mFile \u001b[39m\u001b[32m~/Documents/projects/RL/lit/transformerXL_PPO_JAX/.venv/lib/python3.12/site-packages/wandb/sdk/launch/loader.py:7\u001b[39m\n\u001b[32m      5\u001b[39m \u001b[38;5;28;01mimport\u001b[39;00m \u001b[34;01mwandb\u001b[39;00m\n\u001b[32m      6\u001b[39m \u001b[38;5;28;01mfrom\u001b[39;00m \u001b[34;01mwandb\u001b[39;00m\u001b[34;01m.\u001b[39;00m\u001b[34;01mapis\u001b[39;00m\u001b[34;01m.\u001b[39;00m\u001b[34;01minternal\u001b[39;00m \u001b[38;5;28;01mimport\u001b[39;00m Api\n\u001b[32m----> \u001b[39m\u001b[32m7\u001b[39m \u001b[38;5;28;01mfrom\u001b[39;00m \u001b[34;01mwandb\u001b[39;00m\u001b[34;01m.\u001b[39;00m\u001b[34;01mdocker\u001b[39;00m \u001b[38;5;28;01mimport\u001b[39;00m is_docker_installed\n\u001b[32m      8\u001b[39m \u001b[38;5;28;01mfrom\u001b[39;00m \u001b[34;01mwandb\u001b[39;00m\u001b[34;01m.\u001b[39;00m\u001b[34;01msdk\u001b[39;00m\u001b[34;01m.\u001b[39;00m\u001b[34;01mlaunch\u001b[39;00m\u001b[34;01m.\u001b[39;00m\u001b[34;01merrors\u001b[39;00m \u001b[38;5;28;01mimport\u001b[39;00m LaunchError\n\u001b[32m     10\u001b[39m \u001b[38;5;28;01mfrom\u001b[39;00m \u001b[34;01m.\u001b[39;00m\u001b[34;01mbuilder\u001b[39;00m\u001b[34;01m.\u001b[39;00m\u001b[34;01mabstract\u001b[39;00m \u001b[38;5;28;01mimport\u001b[39;00m AbstractBuilder\n",
      "\u001b[36mFile \u001b[39m\u001b[32m~/Documents/projects/RL/lit/transformerXL_PPO_JAX/.venv/lib/python3.12/site-packages/wandb/docker/__init__.py:8\u001b[39m\n\u001b[32m      5\u001b[39m \u001b[38;5;28;01mfrom\u001b[39;00m \u001b[34;01mtyping\u001b[39;00m \u001b[38;5;28;01mimport\u001b[39;00m Any, Dict, List, Optional, Tuple, Union\n\u001b[32m      7\u001b[39m \u001b[38;5;28;01mimport\u001b[39;00m \u001b[34;01mrequests\u001b[39;00m\n\u001b[32m----> \u001b[39m\u001b[32m8\u001b[39m \u001b[38;5;28;01mfrom\u001b[39;00m \u001b[34;01mdockerpycreds\u001b[39;00m\u001b[34;01m.\u001b[39;00m\u001b[34;01mutils\u001b[39;00m \u001b[38;5;28;01mimport\u001b[39;00m find_executable  \u001b[38;5;66;03m# type: ignore\u001b[39;00m\n\u001b[32m     10\u001b[39m \u001b[38;5;28;01mfrom\u001b[39;00m \u001b[34;01mwandb\u001b[39;00m\u001b[34;01m.\u001b[39;00m\u001b[34;01mdocker\u001b[39;00m \u001b[38;5;28;01mimport\u001b[39;00m auth, www_authenticate\n\u001b[32m     11\u001b[39m \u001b[38;5;28;01mfrom\u001b[39;00m \u001b[34;01mwandb\u001b[39;00m\u001b[34;01m.\u001b[39;00m\u001b[34;01merrors\u001b[39;00m \u001b[38;5;28;01mimport\u001b[39;00m Error\n",
      "\u001b[36mFile \u001b[39m\u001b[32m~/Documents/projects/RL/lit/transformerXL_PPO_JAX/.venv/lib/python3.12/site-packages/dockerpycreds/__init__.py:2\u001b[39m\n\u001b[32m      1\u001b[39m \u001b[38;5;66;03m# flake8: noqa\u001b[39;00m\n\u001b[32m----> \u001b[39m\u001b[32m2\u001b[39m \u001b[38;5;28;01mfrom\u001b[39;00m \u001b[34;01m.\u001b[39;00m\u001b[34;01mstore\u001b[39;00m \u001b[38;5;28;01mimport\u001b[39;00m Store\n\u001b[32m      3\u001b[39m \u001b[38;5;28;01mfrom\u001b[39;00m \u001b[34;01m.\u001b[39;00m\u001b[34;01merrors\u001b[39;00m \u001b[38;5;28;01mimport\u001b[39;00m StoreError, CredentialsNotFound\n\u001b[32m      4\u001b[39m \u001b[38;5;28;01mfrom\u001b[39;00m \u001b[34;01m.\u001b[39;00m\u001b[34;01mconstants\u001b[39;00m \u001b[38;5;28;01mimport\u001b[39;00m *\n",
      "\u001b[36mFile \u001b[39m\u001b[32m~/Documents/projects/RL/lit/transformerXL_PPO_JAX/.venv/lib/python3.12/site-packages/dockerpycreds/store.py:9\u001b[39m\n\u001b[32m      7\u001b[39m \u001b[38;5;28;01mfrom\u001b[39;00m \u001b[34;01m.\u001b[39;00m \u001b[38;5;28;01mimport\u001b[39;00m constants\n\u001b[32m      8\u001b[39m \u001b[38;5;28;01mfrom\u001b[39;00m \u001b[34;01m.\u001b[39;00m \u001b[38;5;28;01mimport\u001b[39;00m errors\n\u001b[32m----> \u001b[39m\u001b[32m9\u001b[39m \u001b[38;5;28;01mfrom\u001b[39;00m \u001b[34;01m.\u001b[39;00m\u001b[34;01mutils\u001b[39;00m \u001b[38;5;28;01mimport\u001b[39;00m create_environment_dict\n\u001b[32m     10\u001b[39m \u001b[38;5;28;01mfrom\u001b[39;00m \u001b[34;01m.\u001b[39;00m\u001b[34;01mutils\u001b[39;00m \u001b[38;5;28;01mimport\u001b[39;00m find_executable\n\u001b[32m     13\u001b[39m \u001b[38;5;28;01mclass\u001b[39;00m \u001b[34;01mStore\u001b[39;00m(\u001b[38;5;28mobject\u001b[39m):\n",
      "\u001b[36mFile \u001b[39m\u001b[32m~/Documents/projects/RL/lit/transformerXL_PPO_JAX/.venv/lib/python3.12/site-packages/dockerpycreds/utils.py:1\u001b[39m\n\u001b[32m----> \u001b[39m\u001b[32m1\u001b[39m \u001b[38;5;28;01mimport\u001b[39;00m \u001b[34;01mdistutils\u001b[39;00m\u001b[34;01m.\u001b[39;00m\u001b[34;01mspawn\u001b[39;00m\n\u001b[32m      2\u001b[39m \u001b[38;5;28;01mimport\u001b[39;00m \u001b[34;01mos\u001b[39;00m\n\u001b[32m      3\u001b[39m \u001b[38;5;28;01mimport\u001b[39;00m \u001b[34;01msys\u001b[39;00m\n",
      "\u001b[31mModuleNotFoundError\u001b[39m: No module named 'distutils'"
     ]
    }
   ],
   "source": [
    "import jax\n",
    "import jax.numpy as jnp\n",
    "import flax.linen as nn\n",
    "import numpy as np\n",
    "import optax\n",
    "from flax.linen.initializers import constant, orthogonal\n",
    "from typing import Sequence, NamedTuple, Any\n",
    "from flax.training.train_state import TrainState\n",
    "import distrax\n",
    "import gymnax\n",
    "from gymnax.wrappers.purerl import  FlattenObservationWrapper\n",
    "import wandb\n",
    "\n",
    "\n",
    "# Custom TrainState to track step count\n",
    "class CustomTrainState(TrainState):\n",
    "    step_count: int\n",
    "\n",
    "\n",
    "from wrappers import (\n",
    "    LogWrapper,\n",
    "    OptimisticResetVecEnvWrapper,\n",
    "    AutoResetEnvWrapper,\n",
    "    BatchEnvWrapper,\n",
    "    ThinkingWrapper,\n",
    ")\n"
   ]
  },
  {
   "cell_type": "code",
   "execution_count": null,
   "metadata": {},
   "outputs": [],
   "source": []
  },
  {
   "cell_type": "code",
   "execution_count": 2,
   "metadata": {},
   "outputs": [
    {
     "ename": "NameError",
     "evalue": "name 'config' is not defined",
     "output_type": "error",
     "traceback": [
      "\u001b[31m---------------------------------------------------------------------------\u001b[39m",
      "\u001b[31mNameError\u001b[39m                                 Traceback (most recent call last)",
      "\u001b[36mCell\u001b[39m\u001b[36m \u001b[39m\u001b[32mIn[2]\u001b[39m\u001b[32m, line 2\u001b[39m\n\u001b[32m      1\u001b[39m config[\u001b[33m\"\u001b[39m\u001b[33mNUM_UPDATES\u001b[39m\u001b[33m\"\u001b[39m] = (\n\u001b[32m----> \u001b[39m\u001b[32m2\u001b[39m     \u001b[43mconfig\u001b[49m[\u001b[33m\"\u001b[39m\u001b[33mTOTAL_TIMESTEPS\u001b[39m\u001b[33m\"\u001b[39m] // config[\u001b[33m\"\u001b[39m\u001b[33mNUM_STEPS\u001b[39m\u001b[33m\"\u001b[39m] // config[\u001b[33m\"\u001b[39m\u001b[33mNUM_ENVS\u001b[39m\u001b[33m\"\u001b[39m]\n\u001b[32m      3\u001b[39m )\n\u001b[32m      4\u001b[39m config[\u001b[33m\"\u001b[39m\u001b[33mMINIBATCH_SIZE\u001b[39m\u001b[33m\"\u001b[39m] = (\n\u001b[32m      5\u001b[39m     config[\u001b[33m\"\u001b[39m\u001b[33mNUM_ENVS\u001b[39m\u001b[33m\"\u001b[39m] * config[\u001b[33m\"\u001b[39m\u001b[33mNUM_STEPS\u001b[39m\u001b[33m\"\u001b[39m] // config[\u001b[33m\"\u001b[39m\u001b[33mNUM_MINIBATCHES\u001b[39m\u001b[33m\"\u001b[39m]\n\u001b[32m      6\u001b[39m )\n\u001b[32m      8\u001b[39m \u001b[38;5;28;01mif\u001b[39;00m(config[\u001b[33m\"\u001b[39m\u001b[33mENV_NAME\u001b[39m\u001b[33m\"\u001b[39m]==\u001b[33m\"\u001b[39m\u001b[33mcraftax\u001b[39m\u001b[33m\"\u001b[39m):\n",
      "\u001b[31mNameError\u001b[39m: name 'config' is not defined"
     ]
    }
   ],
   "source": [
    "config[\"NUM_UPDATES\"] = (\n",
    "    config[\"TOTAL_TIMESTEPS\"] // config[\"NUM_STEPS\"] // config[\"NUM_ENVS\"]\n",
    ")\n",
    "config[\"MINIBATCH_SIZE\"] = (\n",
    "    config[\"NUM_ENVS\"] * config[\"NUM_STEPS\"] // config[\"NUM_MINIBATCHES\"]\n",
    ")\n",
    "\n",
    "if(config[\"ENV_NAME\"]==\"craftax\"):\n",
    "    from craftax.craftax.envs.craftax_symbolic_env import CraftaxSymbolicEnvNoAutoReset\n",
    "    env=CraftaxSymbolicEnvNoAutoReset()\n",
    "    env_params=env.default_params\n",
    "    action_dim_env = env.action_space(env_params).n\n",
    "    env = LogWrapper(env)\n",
    "    env = ThinkingWrapper(env, action_dim_env, config[\"R_THINK\"])\n",
    "    env = OptimisticResetVecEnvWrapper(\n",
    "            env,\n",
    "            num_envs=config[\"NUM_ENVS\"],\n",
    "            reset_ratio=min(16, config[\"NUM_ENVS\"]),\n",
    "        )\n",
    "else:\n",
    "    env, env_params = gymnax.make(config[\"ENV_NAME\"])\n",
    "    action_dim_env = env.action_space(env_params).n \n",
    "    env = FlattenObservationWrapper(env)\n",
    "    env = LogWrapper(env)\n",
    "    env = ThinkingWrapper(env, action_dim_env, config[\"R_THINK\"])\n",
    "    env = BatchEnvWrapper(env,config[\"NUM_ENVS\"])\n"
   ]
  },
  {
   "cell_type": "code",
   "execution_count": 14,
   "metadata": {},
   "outputs": [
    {
     "name": "stdout",
     "output_type": "stream",
     "text": [
      "raw logits:\n",
      " [[-1.887619   -0.17193942 -0.7739322  -1.6001499  -1.3864341  -0.05387902]\n",
      " [ 0.31428617 -0.9276049  -0.03227857  0.14984944  1.2719766  -0.04556949]]\n",
      "\n",
      "allowed mask:\n",
      " [[ True  True  True  True  True  True]\n",
      " [ True  True False False False False]]\n",
      "\n",
      "masked logits:\n",
      " [[-1.887619   -0.17193942 -0.7739322  -1.6001499  -1.3864341  -0.05387902]\n",
      " [ 0.31428617 -0.9276049         -inf        -inf        -inf        -inf]]\n",
      "\n",
      "action probabilities:\n",
      " [[0.05305887 0.29503137 0.1615943  0.0707301  0.08758301 0.33200237]\n",
      " [0.77589303 0.22410698 0.         0.         0.         0.        ]]\n",
      "\n",
      "sampled actions: [2 1]\n",
      "log-probs: [-1.8226664 -1.4956317]\n",
      "probs: [0.1615943 0.224107 ]\n"
     ]
    }
   ],
   "source": [
    "# -------------------------------\n",
    "# synthetic_masking_test.py\n",
    "# -------------------------------\n",
    "import jax, jax.numpy as jnp\n",
    "import distrax\n",
    "\n",
    "# ---------------- hyper-params ----------------\n",
    "BATCH            = 2          # parallel envs\n",
    "ACTION_ENV       = 2          # genuine env actions\n",
    "THINKING_TOKENS  = 4          # “thinking” actions\n",
    "TOTAL_ACTIONS    = ACTION_ENV + THINKING_TOKENS\n",
    "MAX_THINKING_LEN = 3          # cap on consecutive thinking steps\n",
    "# ---------------------------------------------\n",
    "\n",
    "key = jax.random.PRNGKey(84)\n",
    "\n",
    "# Fake network output: random logits (shape [B, A])\n",
    "logits = jax.random.normal(key, (BATCH, TOTAL_ACTIONS))\n",
    "\n",
    "# Fake env_state.thinking_streak (shape [B])\n",
    "consecutive_streak = jnp.array([0, 6])  # last env already over the limit\n",
    "\n",
    "# ---------- masking logic ----------\n",
    "mask = ((consecutive_streak[:, None] < MAX_THINKING_LEN) |\n",
    "        (jnp.arange(TOTAL_ACTIONS) < ACTION_ENV))\n",
    "\n",
    "masked_logits = jnp.where(mask, logits, -jnp.inf)   # -∞ kills prob\n",
    "pi = distrax.Categorical(logits=masked_logits)\n",
    "\n",
    "# ---------- sample & score ----------\n",
    "sample_key, _ = jax.random.split(key)\n",
    "action    = pi.sample(seed=sample_key)\n",
    "log_prob  = pi.log_prob(action)\n",
    "probs     = pi.probs  # nice to inspect\n",
    "\n",
    "# ---------- print results ----------\n",
    "print(\"raw logits:\\n\", logits)\n",
    "print(\"\\nallowed mask:\\n\", mask)\n",
    "print(\"\\nmasked logits:\\n\", masked_logits)\n",
    "print(\"\\naction probabilities:\\n\", probs)\n",
    "print(\"\\nsampled actions:\", action)\n",
    "print(\"log-probs:\", log_prob)\n",
    "print(\"probs:\", jnp.exp(log_prob))\n"
   ]
  },
  {
   "cell_type": "code",
   "execution_count": null,
   "metadata": {},
   "outputs": [],
   "source": []
  }
 ],
 "metadata": {
  "kernelspec": {
   "display_name": ".venv",
   "language": "python",
   "name": "python3"
  },
  "language_info": {
   "codemirror_mode": {
    "name": "ipython",
    "version": 3
   },
   "file_extension": ".py",
   "mimetype": "text/x-python",
   "name": "python",
   "nbconvert_exporter": "python",
   "pygments_lexer": "ipython3",
   "version": "3.12.4"
  }
 },
 "nbformat": 4,
 "nbformat_minor": 2
}
